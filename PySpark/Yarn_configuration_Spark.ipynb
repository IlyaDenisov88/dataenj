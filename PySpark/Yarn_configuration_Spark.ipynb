{
  "nbformat": 4,
  "nbformat_minor": 0,
  "metadata": {
    "colab": {
      "provenance": [],
      "authorship_tag": "ABX9TyP2ZcY+gDb/WZUnNPY+yUvv",
      "include_colab_link": true
    },
    "kernelspec": {
      "name": "python3",
      "display_name": "Python 3"
    },
    "language_info": {
      "name": "python"
    }
  },
  "cells": [
    {
      "cell_type": "markdown",
      "metadata": {
        "id": "view-in-github",
        "colab_type": "text"
      },
      "source": [
        "<a href=\"https://colab.research.google.com/github/IlyaDenisov88/dataenj/blob/main/PySpark/Yarn_configuration_Spark.ipynb\" target=\"_parent\"><img src=\"https://colab.research.google.com/assets/colab-badge.svg\" alt=\"Open In Colab\"/></a>"
      ]
    },
    {
      "cell_type": "markdown",
      "source": [
        "# Конфигурация YARN в SPARK\n",
        "\n",
        "\n"
      ],
      "metadata": {
        "id": "AgKJLRJBB21G"
      }
    },
    {
      "cell_type": "markdown",
      "source": [
        "Конфигурация YARN в Spark производится путем настройки соответствующих параметров в файле конфигурации Spark.\n",
        "\n",
        "Вот некоторые основные параметры конфигурации, связанные с YARN, которые могут быть заданы в файле spark-defaults.conf:\n",
        "\n",
        "- spark.master: Указывает URL-адрес или локальный режим для запуска Spark. Для использования YARN в качестве менеджера ресурсов необходимо установить значение yarn.\n",
        "\n",
        "- spark.yarn.queue: Указывает имя очереди YARN, в которую будут отправляться задачи Spark. Этот параметр позволяет контролировать приоритет и доступ к ресурсам в YARN.\n",
        "\n",
        "- spark.yarn.jars: Путь или список путей к JAR-файлам Spark, которые должны быть распределены в кластере YARN. Эти JAR-файлы будут доступны для использования во время выполнения задач Spark.\n",
        "\n",
        "- spark.executor.memory: Указывает количество памяти, выделяемой каждому исполнителю Spark в кластере YARN.\n",
        "\n",
        "- spark.executor.cores: Указывает количество ядер CPU, выделенных каждому исполнителю Spark в кластере YARN.\n",
        "\n",
        "- spark.executor.instances: Указывает количество экземпляров исполнителей Spark, которые должны быть запущены в кластере YARN.\n",
        "\n",
        "- spark.dynamicAllocation.enabled: Если установлено в true, Spark будет динамически управлять количеством исполнителей в зависимости от нагрузки. При использовании YARN, эта функция позволяет автоматически масштабировать количество исполнителей на основе доступных ресурсов в кластере."
      ],
      "metadata": {
        "id": "AHtLSS7dBtv_"
      }
    },
    {
      "cell_type": "code",
      "execution_count": null,
      "metadata": {
        "colab": {
          "base_uri": "https://localhost:8080/",
          "height": 1000
        },
        "id": "xDCFQQeLBmxV",
        "outputId": "7b101eea-3f92-4cb7-c48e-25c6bf26903f"
      },
      "outputs": [
        {
          "output_type": "error",
          "ename": "ModuleNotFoundError",
          "evalue": "No module named 'pyspark'",
          "traceback": [
            "\u001b[0;31m---------------------------------------------------------------------------\u001b[0m",
            "\u001b[0;31mModuleNotFoundError\u001b[0m                       Traceback (most recent call last)",
            "\u001b[0;32m<ipython-input-1-c6a18f912798>\u001b[0m in \u001b[0;36m<cell line: 1>\u001b[0;34m()\u001b[0m\n\u001b[0;32m----> 1\u001b[0;31m \u001b[0;32mfrom\u001b[0m \u001b[0mpyspark\u001b[0m \u001b[0;32mimport\u001b[0m \u001b[0mSparkConf\u001b[0m\u001b[0;34m,\u001b[0m \u001b[0mSparkContext\u001b[0m\u001b[0;34m\u001b[0m\u001b[0;34m\u001b[0m\u001b[0m\n\u001b[0m\u001b[1;32m      2\u001b[0m \u001b[0;34m\u001b[0m\u001b[0m\n\u001b[1;32m      3\u001b[0m \u001b[0;31m# Создание объекта конфигурации Spark\u001b[0m\u001b[0;34m\u001b[0m\u001b[0;34m\u001b[0m\u001b[0m\n\u001b[1;32m      4\u001b[0m \u001b[0mconf\u001b[0m \u001b[0;34m=\u001b[0m \u001b[0mSparkConf\u001b[0m\u001b[0;34m(\u001b[0m\u001b[0;34m)\u001b[0m\u001b[0;31m \u001b[0m\u001b[0;31m\\\u001b[0m\u001b[0;34m\u001b[0m\u001b[0;34m\u001b[0m\u001b[0m\n\u001b[1;32m      5\u001b[0m     \u001b[0;34m.\u001b[0m\u001b[0msetAppName\u001b[0m\u001b[0;34m(\u001b[0m\u001b[0;34m\"MySparkApp\"\u001b[0m\u001b[0;34m)\u001b[0m\u001b[0;31m \u001b[0m\u001b[0;31m\\\u001b[0m\u001b[0;34m\u001b[0m\u001b[0;34m\u001b[0m\u001b[0m\n",
            "\u001b[0;31mModuleNotFoundError\u001b[0m: No module named 'pyspark'",
            "",
            "\u001b[0;31m---------------------------------------------------------------------------\u001b[0;32m\nNOTE: If your import is failing due to a missing package, you can\nmanually install dependencies using either !pip or !apt.\n\nTo view examples of installing some common dependencies, click the\n\"Open Examples\" button below.\n\u001b[0;31m---------------------------------------------------------------------------\u001b[0m\n"
          ],
          "errorDetails": {
            "actions": [
              {
                "action": "open_url",
                "actionText": "Open Examples",
                "url": "/notebooks/snippets/importing_libraries.ipynb"
              }
            ]
          }
        }
      ],
      "source": [
        "from pyspark import SparkConf, SparkContext\n",
        "\n",
        "# Создание объекта конфигурации Spark\n",
        "conf = SparkConf() \\\n",
        "    .setAppName(\"MySparkApp\") \\\n",
        "    .setMaster(\"yarn\") \\\n",
        "    .set(\"spark.yarn.queue\", \"my_queue\") \\\n",
        "    .set(\"spark.yarn.jars\", \"/path/to/spark-jars\") \\\n",
        "    .set(\"spark.executor.memory\", \"2g\") \\\n",
        "    .set(\"spark.executor.cores\", \"2\") \\\n",
        "    .set(\"spark.executor.instances\", \"5\") \\\n",
        "    .set(\"spark.dynamicAllocation.enabled\", \"true\")\n",
        "\n",
        "# Создание объекта контекста Spark\n",
        "sc = SparkContext(conf=conf)\n",
        "\n",
        "# Дальнейшее выполнение задач Spark с использованием контекста sc\n",
        "# ...\n",
        "\n",
        "# Завершение работы\n",
        "sc.stop()"
      ]
    }
  ]
}