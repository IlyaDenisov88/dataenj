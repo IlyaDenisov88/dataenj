{
  "nbformat": 4,
  "nbformat_minor": 0,
  "metadata": {
    "colab": {
      "provenance": [],
      "authorship_tag": "ABX9TyO12GuU21bExlmp02gQRUq7",
      "include_colab_link": true
    },
    "kernelspec": {
      "name": "python3",
      "display_name": "Python 3"
    },
    "language_info": {
      "name": "python"
    }
  },
  "cells": [
    {
      "cell_type": "markdown",
      "metadata": {
        "id": "view-in-github",
        "colab_type": "text"
      },
      "source": [
        "<a href=\"https://colab.research.google.com/github/IlyaDenisov88/dataenj/blob/main/PySpark/Tungsten_Execution_Engine_logs.ipynb\" target=\"_parent\"><img src=\"https://colab.research.google.com/assets/colab-badge.svg\" alt=\"Open In Colab\"/></a>"
      ]
    },
    {
      "cell_type": "code",
      "source": [
        "!pip install pyspark"
      ],
      "metadata": {
        "colab": {
          "base_uri": "https://localhost:8080/"
        },
        "id": "kTD-AKXv6skw",
        "outputId": "be437a83-612a-4fc7-fdcd-69ee79008c4b"
      },
      "execution_count": 1,
      "outputs": [
        {
          "output_type": "stream",
          "name": "stdout",
          "text": [
            "Collecting pyspark\n",
            "  Downloading pyspark-3.5.3.tar.gz (317.3 MB)\n",
            "\u001b[2K     \u001b[90m━━━━━━━━━━━━━━━━━━━━━━━━━━━━━━━━━━━━━━━━\u001b[0m \u001b[32m317.3/317.3 MB\u001b[0m \u001b[31m4.0 MB/s\u001b[0m eta \u001b[36m0:00:00\u001b[0m\n",
            "\u001b[?25h  Preparing metadata (setup.py) ... \u001b[?25l\u001b[?25hdone\n",
            "Requirement already satisfied: py4j==0.10.9.7 in /usr/local/lib/python3.10/dist-packages (from pyspark) (0.10.9.7)\n",
            "Building wheels for collected packages: pyspark\n",
            "  Building wheel for pyspark (setup.py) ... \u001b[?25l\u001b[?25hdone\n",
            "  Created wheel for pyspark: filename=pyspark-3.5.3-py2.py3-none-any.whl size=317840625 sha256=9ec72188b5516095ca7e130b574533d05ce7e42613c29fe4acc519ebcfe05be5\n",
            "  Stored in directory: /root/.cache/pip/wheels/1b/3a/92/28b93e2fbfdbb07509ca4d6f50c5e407f48dce4ddbda69a4ab\n",
            "Successfully built pyspark\n",
            "Installing collected packages: pyspark\n",
            "Successfully installed pyspark-3.5.3\n"
          ]
        }
      ]
    },
    {
      "cell_type": "markdown",
      "source": [
        "Tungsten Execution Engine занимается управлением памяти вне кучи (off-heap) для **уменьшения затрат на сборку мусора**. Делает **Whole-Stage Code Generation**: Автоматическую генерацию специализированного кода для выполнения этапов обработки данных. Проще говоря он **отвечает именно за ресурсы для физического выполнение вашего кода**, а все остальное делает Catalyst Optimizer. То есть и физический план составляется Catalyst - ом, но сами ресурсы выделяет и подбирает Tungsten."
      ],
      "metadata": {
        "id": "s2qM2MKy62_a"
      }
    },
    {
      "cell_type": "code",
      "execution_count": 2,
      "metadata": {
        "colab": {
          "base_uri": "https://localhost:8080/"
        },
        "id": "cfaId9b36kZ5",
        "outputId": "cc09683b-b89c-49f5-ad5c-901635972c62"
      },
      "outputs": [
        {
          "output_type": "stream",
          "name": "stdout",
          "text": [
            "== Parsed Logical Plan ==\n",
            "'Sort ['mod3 ASC NULLS FIRST], true\n",
            "+- Aggregate [mod3#2L], [mod3#2L, sum(id#0L) AS sum(id)#13L]\n",
            "   +- Filter (mod2#3L = cast(1 as bigint))\n",
            "      +- LogicalRDD [id#0L, name#1, mod3#2L, mod2#3L], false\n",
            "\n",
            "== Analyzed Logical Plan ==\n",
            "mod3: bigint, sum(id): bigint\n",
            "Sort [mod3#2L ASC NULLS FIRST], true\n",
            "+- Aggregate [mod3#2L], [mod3#2L, sum(id#0L) AS sum(id)#13L]\n",
            "   +- Filter (mod2#3L = cast(1 as bigint))\n",
            "      +- LogicalRDD [id#0L, name#1, mod3#2L, mod2#3L], false\n",
            "\n",
            "== Optimized Logical Plan ==\n",
            "Sort [mod3#2L ASC NULLS FIRST], true\n",
            "+- Aggregate [mod3#2L], [mod3#2L, sum(id#0L) AS sum(id)#13L]\n",
            "   +- Project [id#0L, mod3#2L]\n",
            "      +- Filter (isnotnull(mod2#3L) AND (mod2#3L = 1))\n",
            "         +- LogicalRDD [id#0L, name#1, mod3#2L, mod2#3L], false\n",
            "\n",
            "== Physical Plan ==\n",
            "AdaptiveSparkPlan isFinalPlan=false\n",
            "+- Sort [mod3#2L ASC NULLS FIRST], true, 0\n",
            "   +- Exchange rangepartitioning(mod3#2L ASC NULLS FIRST, 200), ENSURE_REQUIREMENTS, [plan_id=26]\n",
            "      +- HashAggregate(keys=[mod3#2L], functions=[sum(id#0L)], output=[mod3#2L, sum(id)#13L])\n",
            "         +- Exchange hashpartitioning(mod3#2L, 200), ENSURE_REQUIREMENTS, [plan_id=23]\n",
            "            +- HashAggregate(keys=[mod3#2L], functions=[partial_sum(id#0L)], output=[mod3#2L, sum#17L])\n",
            "               +- Project [id#0L, mod3#2L]\n",
            "                  +- Filter (isnotnull(mod2#3L) AND (mod2#3L = 1))\n",
            "                     +- Scan ExistingRDD[id#0L,name#1,mod3#2L,mod2#3L]\n",
            "\n"
          ]
        }
      ],
      "source": [
        "from pyspark.sql import SparkSession\n",
        "from pyspark.sql.functions import col\n",
        "\n",
        "spark = SparkSession.builder \\\n",
        "    .appName(\"Tungsten Example\") \\\n",
        "    .config(\"spark.sql.codegen.wholeStage\", \"true\") \\\n",
        "    .getOrCreate()\n",
        "\n",
        "data = [(i, f\"Name_{i % 5}\", i % 3, i % 2) for i in range(1, 1000001)]\n",
        "df = spark.createDataFrame(data, [\"id\", \"name\", \"mod3\", \"mod2\"])\n",
        "\n",
        "# Применяем фильтр и агрегацию, чтобы увидеть работу Tungsten\n",
        "result = df.filter(col(\"mod2\") == 1) \\\n",
        "           .groupBy(\"mod3\") \\\n",
        "           .agg({\"id\": \"sum\"}) \\\n",
        "           .orderBy(\"mod3\")\n",
        "\n",
        "result.explain(True)"
      ]
    },
    {
      "cell_type": "markdown",
      "source": [
        "Здесь опишем все построчно.\n",
        "\n",
        "**Операция сортировки данных по столбцу mod3**. Tungsten оптимизирует сортировку, используя целостную генерацию кода, что уменьшает накладные расходы на выполнение сортировки.\n",
        "\n",
        "**Операция обмена данных между разделами для выполнения распределенной сортировки и агрегации**. Tungsten оптимизирует операции обмена, эффективно управляя памятью и процессорными ресурсами. В данном случае это rangepartitioning, оптимизированное для сортировки данных по mod3.\n",
        "\n",
        "**Partial_sum** указывает на промежуточную агрегацию, что также оптимизируется Tungsten.\n",
        "\n",
        "**Фильтрация данных по условию** `isnotnull(mod2#3L) AND (mod2#3L = 1)`. Tungsten использует генерацию кода для выполнения фильтрации с высокой производительностью.\n",
        "\n",
        "**Операция сканирования исходного RDD для извлечения данных.**"
      ],
      "metadata": {
        "id": "S1Ks-nKi7p6Z"
      }
    },
    {
      "cell_type": "markdown",
      "source": [
        "Также давайте дадим определение для **Whole-Stage Code Generation** (Целостная генерация кода) —это одна из ключевых оптимизаций Tungsten, которая позволяет объединить несколько операций в одну стадию(stage) и генерировать специализированный машинный код для их выполнения.\n",
        "\n",
        "Хотя Tungsten Execution Engine не всегда явно упоминается в физическом плане выполнения, его оптимизации работают за кулисами, обеспечивая высокую производительность Spark."
      ],
      "metadata": {
        "id": "whOu8vdj80cD"
      }
    }
  ]
}