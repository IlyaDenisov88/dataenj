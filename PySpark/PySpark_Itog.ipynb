{
  "nbformat": 4,
  "nbformat_minor": 0,
  "metadata": {
    "colab": {
      "provenance": [],
      "authorship_tag": "ABX9TyPc3yu3DUqBLurxwm7W3PzR",
      "include_colab_link": true
    },
    "kernelspec": {
      "name": "python3",
      "display_name": "Python 3"
    },
    "language_info": {
      "name": "python"
    }
  },
  "cells": [
    {
      "cell_type": "markdown",
      "metadata": {
        "id": "view-in-github",
        "colab_type": "text"
      },
      "source": [
        "<a href=\"https://colab.research.google.com/github/IlyaDenisov88/dataenj/blob/main/PySpark/PySpark_Itog.ipynb\" target=\"_parent\"><img src=\"https://colab.research.google.com/assets/colab-badge.svg\" alt=\"Open In Colab\"/></a>"
      ]
    },
    {
      "cell_type": "markdown",
      "source": [
        "# Генерация"
      ],
      "metadata": {
        "id": "viEPNUDeRAC3"
      }
    },
    {
      "cell_type": "code",
      "execution_count": 1,
      "metadata": {
        "colab": {
          "base_uri": "https://localhost:8080/"
        },
        "id": "1gYdqjZ5Fvl7",
        "outputId": "63169713-7d3c-4923-aea6-f0b8f0ff7b73"
      },
      "outputs": [
        {
          "output_type": "stream",
          "name": "stdout",
          "text": [
            "Collecting pyspark\n",
            "  Downloading pyspark-3.5.3.tar.gz (317.3 MB)\n",
            "\u001b[2K     \u001b[90m━━━━━━━━━━━━━━━━━━━━━━━━━━━━━━━━━━━━━━━━\u001b[0m \u001b[32m317.3/317.3 MB\u001b[0m \u001b[31m4.8 MB/s\u001b[0m eta \u001b[36m0:00:00\u001b[0m\n",
            "\u001b[?25h  Preparing metadata (setup.py) ... \u001b[?25l\u001b[?25hdone\n",
            "Requirement already satisfied: py4j==0.10.9.7 in /usr/local/lib/python3.10/dist-packages (from pyspark) (0.10.9.7)\n",
            "Building wheels for collected packages: pyspark\n",
            "  Building wheel for pyspark (setup.py) ... \u001b[?25l\u001b[?25hdone\n",
            "  Created wheel for pyspark: filename=pyspark-3.5.3-py2.py3-none-any.whl size=317840625 sha256=b3d671322e835647209682ab617e60ff9268b14cbf9a90e5a59e43dadf75c24b\n",
            "  Stored in directory: /root/.cache/pip/wheels/1b/3a/92/28b93e2fbfdbb07509ca4d6f50c5e407f48dce4ddbda69a4ab\n",
            "Successfully built pyspark\n",
            "Installing collected packages: pyspark\n",
            "Successfully installed pyspark-3.5.3\n"
          ]
        }
      ],
      "source": [
        "!pip install pyspark"
      ]
    },
    {
      "cell_type": "code",
      "source": [
        "!pip install faker"
      ],
      "metadata": {
        "colab": {
          "base_uri": "https://localhost:8080/"
        },
        "id": "2Aiq8wNNHAQl",
        "outputId": "f6301447-18a2-4644-ea43-20bf823617da"
      },
      "execution_count": 2,
      "outputs": [
        {
          "output_type": "stream",
          "name": "stdout",
          "text": [
            "Collecting faker\n",
            "  Downloading Faker-29.0.0-py3-none-any.whl.metadata (15 kB)\n",
            "Requirement already satisfied: python-dateutil>=2.4 in /usr/local/lib/python3.10/dist-packages (from faker) (2.8.2)\n",
            "Requirement already satisfied: six>=1.5 in /usr/local/lib/python3.10/dist-packages (from python-dateutil>=2.4->faker) (1.16.0)\n",
            "Downloading Faker-29.0.0-py3-none-any.whl (1.8 MB)\n",
            "\u001b[2K   \u001b[90m━━━━━━━━━━━━━━━━━━━━━━━━━━━━━━━━━━━━━━━━\u001b[0m \u001b[32m1.8/1.8 MB\u001b[0m \u001b[31m18.6 MB/s\u001b[0m eta \u001b[36m0:00:00\u001b[0m\n",
            "\u001b[?25hInstalling collected packages: faker\n",
            "Successfully installed faker-29.0.0\n"
          ]
        }
      ]
    },
    {
      "cell_type": "code",
      "source": [
        "import csv\n",
        "from faker import Faker\n",
        "import random\n",
        "\n",
        "fake = Faker()\n",
        "\n",
        "num_records = 100000\n",
        "\n",
        "http_methods = ['GET', 'POST', 'PUT', 'DELETE']\n",
        "response_codes = [200, 301, 404, 500]\n",
        "\n",
        "file_path = \"web_server_logs.csv\"\n",
        "\n",
        "with open(file_path, mode='w', newline='') as file:\n",
        "    writer = csv.writer(file)\n",
        "    writer.writerow(['ip', 'timestamp', 'method', 'url', 'response_code', 'response_size'])\n",
        "\n",
        "    for _ in range(num_records):\n",
        "        ip = fake.ipv4()\n",
        "        timestamp = fake.date_time_this_year().isoformat()\n",
        "        method = random.choice(http_methods)\n",
        "        url = fake.uri_path()\n",
        "        response_code = random.choice(response_codes)\n",
        "        response_size = random.randint(100, 10000)\n",
        "\n",
        "        writer.writerow([ip, timestamp, method, url, response_code, response_size])\n",
        "\n",
        "print(f\"Сгенерировано {num_records} записей и сохранено в {file_path}\")"
      ],
      "metadata": {
        "colab": {
          "base_uri": "https://localhost:8080/"
        },
        "id": "M1vhG8z9HHPA",
        "outputId": "7bc2da94-065a-4540-b92d-450d1e4c33e8"
      },
      "execution_count": 3,
      "outputs": [
        {
          "output_type": "stream",
          "name": "stdout",
          "text": [
            "Сгенерировано 100000 записей и сохранено в web_server_logs.csv\n"
          ]
        }
      ]
    },
    {
      "cell_type": "markdown",
      "source": [
        "# Spark"
      ],
      "metadata": {
        "id": "qKZaqnK0RE7W"
      }
    },
    {
      "cell_type": "code",
      "source": [
        "from pyspark.sql import SparkSession"
      ],
      "metadata": {
        "id": "S6run2eCF6CE"
      },
      "execution_count": 103,
      "outputs": []
    },
    {
      "cell_type": "code",
      "source": [
        "spark = SparkSession.builder.appName(\"Final_tasks\").getOrCreate()"
      ],
      "metadata": {
        "id": "aTyrtH7tGNvZ"
      },
      "execution_count": 104,
      "outputs": []
    },
    {
      "cell_type": "code",
      "source": [
        "df = spark.read.option(\"header\", \"true\").csv(\"/content/web_server_logs.csv\")\n",
        "df.dtypes"
      ],
      "metadata": {
        "colab": {
          "base_uri": "https://localhost:8080/"
        },
        "id": "grJ-5JtxJAhT",
        "outputId": "dd5e7448-d7c8-4072-a85e-59dc8abc3d61"
      },
      "execution_count": 105,
      "outputs": [
        {
          "output_type": "execute_result",
          "data": {
            "text/plain": [
              "[('ip', 'string'),\n",
              " ('timestamp', 'string'),\n",
              " ('method', 'string'),\n",
              " ('url', 'string'),\n",
              " ('response_code', 'string'),\n",
              " ('response_size', 'string')]"
            ]
          },
          "metadata": {},
          "execution_count": 105
        }
      ]
    },
    {
      "cell_type": "code",
      "source": [
        "from pyspark.sql.types import StringType, IntegerType, DateType"
      ],
      "metadata": {
        "id": "sBtC-2vwJCxH"
      },
      "execution_count": 106,
      "outputs": []
    },
    {
      "cell_type": "code",
      "source": [
        "from pyspark.sql.functions import count, col, to_date"
      ],
      "metadata": {
        "id": "p1l2ySiHIfOM"
      },
      "execution_count": 107,
      "outputs": []
    },
    {
      "cell_type": "code",
      "source": [
        "data_types = {\n",
        "    \"timestamp\": DateType(),\n",
        "    \"response_code\": IntegerType(),\n",
        "    \"response_size\": IntegerType()\n",
        "}\n",
        "for column_name, data_type in data_types.items():\n",
        "  df = df.withColumn(column_name, col(column_name).cast(data_type))"
      ],
      "metadata": {
        "id": "_mAEs7y7Ja76"
      },
      "execution_count": 108,
      "outputs": []
    },
    {
      "cell_type": "code",
      "source": [
        "df.dtypes"
      ],
      "metadata": {
        "colab": {
          "base_uri": "https://localhost:8080/"
        },
        "id": "gCVDYFLOKWJo",
        "outputId": "254beb5b-2c1e-4d0b-a316-2201c7b4c7a3"
      },
      "execution_count": 109,
      "outputs": [
        {
          "output_type": "execute_result",
          "data": {
            "text/plain": [
              "[('ip', 'string'),\n",
              " ('timestamp', 'date'),\n",
              " ('method', 'string'),\n",
              " ('url', 'string'),\n",
              " ('response_code', 'int'),\n",
              " ('response_size', 'int')]"
            ]
          },
          "metadata": {},
          "execution_count": 109
        }
      ]
    },
    {
      "cell_type": "code",
      "source": [
        "df.show()"
      ],
      "metadata": {
        "colab": {
          "base_uri": "https://localhost:8080/"
        },
        "id": "dVzynluRKdEO",
        "outputId": "5be40333-56ba-441c-af47-c086f84e1712"
      },
      "execution_count": 110,
      "outputs": [
        {
          "output_type": "stream",
          "name": "stdout",
          "text": [
            "+---------------+----------+------+--------------------+-------------+-------------+\n",
            "|             ip| timestamp|method|                 url|response_code|response_size|\n",
            "+---------------+----------+------+--------------------+-------------+-------------+\n",
            "|    170.6.26.63|2024-06-04|DELETE|     wp-content/main|          301|         9625|\n",
            "|170.209.183.250|2024-05-16|   GET|      posts/tag/tags|          500|         1126|\n",
            "|  99.100.26.231|2024-07-03|DELETE|                main|          301|         7123|\n",
            "| 193.216.128.75|2024-01-27|   GET|             explore|          301|         8541|\n",
            "|    82.69.71.59|2024-08-04|   GET|                 tag|          404|         2772|\n",
            "|  205.95.224.27|2024-05-30|  POST|wp-content/search...|          404|         6646|\n",
            "|    24.74.81.85|2024-04-11|  POST|          categories|          301|         3238|\n",
            "| 135.240.26.179|2024-05-23|DELETE|                 tag|          404|         5905|\n",
            "| 178.220.17.153|2024-07-01|DELETE|  posts/category/app|          301|         6510|\n",
            "| 43.148.168.220|2024-04-30|  POST|wp-content/wp-con...|          500|         5440|\n",
            "|196.110.139.240|2024-07-15|   GET|                main|          301|         5812|\n",
            "|   16.98.93.217|2024-07-04|   GET|          wp-content|          500|          805|\n",
            "|  97.63.178.120|2024-07-23|DELETE|            main/app|          200|         6948|\n",
            "|    124.0.89.84|2024-03-11|DELETE|           list/blog|          301|         2344|\n",
            "| 186.123.194.59|2024-07-14|  POST|              search|          200|         6828|\n",
            "|192.148.246.244|2024-03-30|DELETE|      categories/tag|          301|          258|\n",
            "|  1.158.142.196|2024-08-07|   GET|     explore/explore|          500|         7992|\n",
            "|196.213.189.154|2024-07-30|  POST|            app/tags|          301|         6499|\n",
            "|   176.84.214.8|2024-01-09|   GET|    tags/search/main|          200|         3487|\n",
            "|  217.124.8.218|2024-01-02|   PUT|categories/tags/list|          200|          952|\n",
            "+---------------+----------+------+--------------------+-------------+-------------+\n",
            "only showing top 20 rows\n",
            "\n"
          ]
        }
      ]
    },
    {
      "cell_type": "markdown",
      "source": [
        "1. Сгруппируйте данные по IP и посчитайте количество запросов для каждого IP, выводим 10 самых активных IP. Формат вывода, как на скрине ниже.\n",
        "\n",
        "2. Сгруппируйте данные по HTTP-методу и посчитайте количество запросов для каждого метода.\n",
        "\n",
        "3. Профильтруйте и посчитайте количество запросов с кодом ответа 404.\n",
        "\n",
        "4. Сгруппируйте данные по дате и просуммируйте размер ответов, сортируйте по дате.\n",
        "\n"
      ],
      "metadata": {
        "id": "1Ad0tpMOIbtm"
      }
    },
    {
      "cell_type": "code",
      "source": [
        "print(\"Top 10 active IP addresses: \")\n",
        "df.groupBy(\"ip\").count().withColumnRenamed(\"count\", \"request_count\").orderBy(col(\"request_count\").desc()).limit(10).show()"
      ],
      "metadata": {
        "colab": {
          "base_uri": "https://localhost:8080/"
        },
        "id": "LGeYopAEHRKH",
        "outputId": "cf1f1378-f57d-4270-da62-a88452881ea1"
      },
      "execution_count": 111,
      "outputs": [
        {
          "output_type": "stream",
          "name": "stdout",
          "text": [
            "Top 10 active IP addresses: \n",
            "+--------------+-------------+\n",
            "|            ip|request_count|\n",
            "+--------------+-------------+\n",
            "| 198.15.176.55|            2|\n",
            "|  99.18.129.10|            2|\n",
            "| 19.173.74.240|            2|\n",
            "|  122.65.43.57|            1|\n",
            "| 72.166.75.216|            1|\n",
            "|  107.58.77.42|            1|\n",
            "|46.106.225.165|            1|\n",
            "| 217.10.165.75|            1|\n",
            "|79.146.119.219|            1|\n",
            "|154.158.41.106|            1|\n",
            "+--------------+-------------+\n",
            "\n"
          ]
        }
      ]
    },
    {
      "cell_type": "code",
      "source": [
        "print(\"Request count by HTTP method: \")\n",
        "df.groupBy(\"method\").count().withColumnRenamed(\"count\", \"count_method\").orderBy(col(\"count_method\").desc()).show()"
      ],
      "metadata": {
        "colab": {
          "base_uri": "https://localhost:8080/"
        },
        "id": "mSIYRmwnNJVg",
        "outputId": "2787ecb0-3c7c-41f5-fb43-1d3927ea3cef"
      },
      "execution_count": 112,
      "outputs": [
        {
          "output_type": "stream",
          "name": "stdout",
          "text": [
            "Request count by HTTP method: \n",
            "+------+------------+\n",
            "|method|count_method|\n",
            "+------+------------+\n",
            "|   PUT|       25249|\n",
            "|   GET|       25104|\n",
            "|DELETE|       24851|\n",
            "|  POST|       24796|\n",
            "+------+------------+\n",
            "\n"
          ]
        }
      ]
    },
    {
      "cell_type": "code",
      "source": [
        "print(\"Total number of 404 response codes:\", df.filter(df[\"response_code\"] == 404).count())"
      ],
      "metadata": {
        "colab": {
          "base_uri": "https://localhost:8080/"
        },
        "id": "arsSH2tBPcZ2",
        "outputId": "d229e7f6-779d-4185-fa95-399cba14706e"
      },
      "execution_count": 113,
      "outputs": [
        {
          "output_type": "stream",
          "name": "stdout",
          "text": [
            "Total number of 404 response codes: 25024\n"
          ]
        }
      ]
    },
    {
      "cell_type": "code",
      "source": [
        "from pyspark.sql.functions import sum"
      ],
      "metadata": {
        "id": "D4i3oyRhQVfr"
      },
      "execution_count": 114,
      "outputs": []
    },
    {
      "cell_type": "code",
      "source": [
        "print(\"Total response size by day: \")\n",
        "df.withColumnRenamed(\"timestamp\", \"date\").groupBy(\"date\").agg(sum(\"response_size\").alias(\"tolal_response_size\")).orderBy(\"date\").show()"
      ],
      "metadata": {
        "colab": {
          "base_uri": "https://localhost:8080/"
        },
        "id": "mIN2rb2bQOcz",
        "outputId": "28b91d0c-98de-4984-d535-0cb4bb058e23"
      },
      "execution_count": 115,
      "outputs": [
        {
          "output_type": "stream",
          "name": "stdout",
          "text": [
            "Total response size by day: \n",
            "+----------+-------------------+\n",
            "|      date|tolal_response_size|\n",
            "+----------+-------------------+\n",
            "|2024-01-01|            1819089|\n",
            "|2024-01-02|            1914425|\n",
            "|2024-01-03|            1806684|\n",
            "|2024-01-04|            2058286|\n",
            "|2024-01-05|            1827053|\n",
            "|2024-01-06|            1900953|\n",
            "|2024-01-07|            1990190|\n",
            "|2024-01-08|            1908416|\n",
            "|2024-01-09|            2080075|\n",
            "|2024-01-10|            2030764|\n",
            "|2024-01-11|            1993260|\n",
            "|2024-01-12|            1900572|\n",
            "|2024-01-13|            1852664|\n",
            "|2024-01-14|            1791681|\n",
            "|2024-01-15|            1853773|\n",
            "|2024-01-16|            1864168|\n",
            "|2024-01-17|            1894158|\n",
            "|2024-01-18|            1710363|\n",
            "|2024-01-19|            1866185|\n",
            "|2024-01-20|            2053273|\n",
            "+----------+-------------------+\n",
            "only showing top 20 rows\n",
            "\n"
          ]
        }
      ]
    },
    {
      "cell_type": "code",
      "source": [
        "spark.stop()"
      ],
      "metadata": {
        "id": "LQfmQXCgRIj7"
      },
      "execution_count": 116,
      "outputs": []
    }
  ]
}