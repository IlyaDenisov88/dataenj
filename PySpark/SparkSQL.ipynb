{
  "nbformat": 4,
  "nbformat_minor": 0,
  "metadata": {
    "colab": {
      "provenance": [],
      "authorship_tag": "ABX9TyNhYria40xMnKqk7cthfAik",
      "include_colab_link": true
    },
    "kernelspec": {
      "name": "python3",
      "display_name": "Python 3"
    },
    "language_info": {
      "name": "python"
    }
  },
  "cells": [
    {
      "cell_type": "markdown",
      "metadata": {
        "id": "view-in-github",
        "colab_type": "text"
      },
      "source": [
        "<a href=\"https://colab.research.google.com/github/IlyaDenisov88/dataenj/blob/main/PySpark/SparkSQL.ipynb\" target=\"_parent\"><img src=\"https://colab.research.google.com/assets/colab-badge.svg\" alt=\"Open In Colab\"/></a>"
      ]
    },
    {
      "cell_type": "code",
      "source": [
        "pip install pyspark"
      ],
      "metadata": {
        "colab": {
          "base_uri": "https://localhost:8080/"
        },
        "id": "GJERApeceuwq",
        "outputId": "04d2febc-fa90-49a2-fd62-a9cc4ff3552f"
      },
      "execution_count": null,
      "outputs": [
        {
          "output_type": "stream",
          "name": "stdout",
          "text": [
            "Collecting pyspark\n",
            "  Downloading pyspark-3.5.2.tar.gz (317.3 MB)\n",
            "\u001b[2K     \u001b[90m━━━━━━━━━━━━━━━━━━━━━━━━━━━━━━━━━━━━━━━━\u001b[0m \u001b[32m317.3/317.3 MB\u001b[0m \u001b[31m2.2 MB/s\u001b[0m eta \u001b[36m0:00:00\u001b[0m\n",
            "\u001b[?25h  Preparing metadata (setup.py) ... \u001b[?25l\u001b[?25hdone\n",
            "Requirement already satisfied: py4j==0.10.9.7 in /usr/local/lib/python3.10/dist-packages (from pyspark) (0.10.9.7)\n",
            "Building wheels for collected packages: pyspark\n",
            "  Building wheel for pyspark (setup.py) ... \u001b[?25l\u001b[?25hdone\n",
            "  Created wheel for pyspark: filename=pyspark-3.5.2-py2.py3-none-any.whl size=317812365 sha256=bf6fe787cffcc12527201a3203f82692289984c9098620d0e231cb447236482c\n",
            "  Stored in directory: /root/.cache/pip/wheels/34/34/bd/03944534c44b677cd5859f248090daa9fb27b3c8f8e5f49574\n",
            "Successfully built pyspark\n",
            "Installing collected packages: pyspark\n",
            "Successfully installed pyspark-3.5.2\n"
          ]
        }
      ]
    },
    {
      "cell_type": "code",
      "source": [
        "from google.colab import drive\n",
        "drive.mount('/content/drive')"
      ],
      "metadata": {
        "colab": {
          "base_uri": "https://localhost:8080/"
        },
        "id": "EGup2INtetJz",
        "outputId": "51395c59-7105-4c7a-f098-7e471dc89f92"
      },
      "execution_count": null,
      "outputs": [
        {
          "output_type": "stream",
          "name": "stdout",
          "text": [
            "Mounted at /content/drive\n"
          ]
        }
      ]
    },
    {
      "cell_type": "markdown",
      "source": [
        "Пример использования DataFrame API\n"
      ],
      "metadata": {
        "id": "EQb8Y4e9h5vk"
      }
    },
    {
      "cell_type": "code",
      "execution_count": null,
      "metadata": {
        "colab": {
          "base_uri": "https://localhost:8080/"
        },
        "id": "XqvjPzISdub1",
        "outputId": "f4dd864e-5c33-4733-e7fb-9d296e938939"
      },
      "outputs": [
        {
          "output_type": "stream",
          "name": "stdout",
          "text": [
            "+---------------+---+----------+----+\n",
            "|_corrupt_record|age|department|name|\n",
            "+---------------+---+----------+----+\n",
            "|           NULL| 35|        HR|Jane|\n",
            "|           NULL| 40|   Finance|Mark|\n",
            "+---------------+---+----------+----+\n",
            "\n",
            "+-----------+-----+-------+\n",
            "| department|count|avg_age|\n",
            "+-----------+-----+-------+\n",
            "|         HR|    2|   32.5|\n",
            "|    Finance|    2|   32.5|\n",
            "|Engineering|    1|   23.0|\n",
            "|       NULL|    0|   NULL|\n",
            "+-----------+-----+-------+\n",
            "\n"
          ]
        }
      ],
      "source": [
        "from pyspark.sql import SparkSession\n",
        "from pyspark.sql.functions import col\n",
        "\n",
        "# Создание SparkSession\n",
        "spark = SparkSession.builder.appName(\"DataFrameAPIExample\").getOrCreate()\n",
        "\n",
        "# Чтение данных из JSON файла\n",
        "df = spark.read.json(\"/content/drive/MyDrive/dataenj/people.json\")\n",
        "\n",
        "# Фильтрация данных\n",
        "filtered_df = df.filter(col(\"age\") > 30) # тут он вывел\n",
        "\n",
        "# Группировка и агрегация данных\n",
        "grouped_df = df.groupBy(\"department\").agg({\"age\": \"avg\", \"name\": \"count\"}).withColumnRenamed(\"avg(age)\", \"avg_age\").withColumnRenamed(\"count(name)\", \"count\")\n",
        "\n",
        "# Сортировка данных\n",
        "sorted_df = grouped_df.orderBy(col(\"count\").desc()) # и тут он вывел\n",
        "\n",
        "# Показ результатов\n",
        "filtered_df.show()\n",
        "sorted_df.show()\n",
        "\n",
        "# Сохранение результирующего DataFrame в CSV файл\n",
        "sorted_df.write.csv(\"output.csv\", header=True, mode=\"overwrite\")\n",
        "\n",
        "spark.stop()"
      ]
    },
    {
      "cell_type": "markdown",
      "source": [
        "Теперь давайте посмотрим на то, как работает \"оригинальный SQL\" в PySpark.\n"
      ],
      "metadata": {
        "id": "JUHEWptXhzGv"
      }
    },
    {
      "cell_type": "code",
      "source": [
        "from pyspark.sql import SparkSession\n",
        "\n",
        "# Создание SparkSession\n",
        "spark = SparkSession.builder.appName(\"SQLAPIExample\").getOrCreate()\n",
        "\n",
        "# Чтение данных из JSON файлов\n",
        "people_df = spark.read.json(\"/content/drive/MyDrive/dataenj/people.json\")\n",
        "departments_df = spark.read.json(\"/content/drive/MyDrive/dataenj/departments.json\")\n",
        "\n",
        "# Регистрация DataFrame как временные таблицы\n",
        "people_df.createOrReplaceTempView(\"people\")\n",
        "departments_df.createOrReplaceTempView(\"departments\")\n",
        "\n",
        "# Выполнение JOIN-запроса с использованием SQL\n",
        "join_df = spark.sql(\"\"\"\n",
        "SELECT p.name, p.age, d.department_name, d.id\n",
        "FROM people p\n",
        "JOIN departments d\n",
        "ON p.department = d.department_name\n",
        "\"\"\")\n",
        "\n",
        "# Показ результатов\n",
        "join_df.show()\n",
        "\n",
        "# Сохранение результирующего DataFrame в CSV файл\n",
        "join_df.write.csv(\"output2.csv\", header=True, mode=\"overwrite\")\n",
        "\n",
        "spark.stop()"
      ],
      "metadata": {
        "colab": {
          "base_uri": "https://localhost:8080/"
        },
        "id": "lfItnPmYhxea",
        "outputId": "df702da6-54fd-4e1e-801a-65704d0d5af9"
      },
      "execution_count": null,
      "outputs": [
        {
          "output_type": "stream",
          "name": "stdout",
          "text": [
            "+-----+---+---------------+---+\n",
            "| name|age|department_name| id|\n",
            "+-----+---+---------------+---+\n",
            "| John| 30|             HR|  1|\n",
            "|  Doe| 25|        Finance|  2|\n",
            "| Jane| 35|             HR|  1|\n",
            "| Mark| 40|        Finance|  2|\n",
            "|Smith| 23|    Engineering|  3|\n",
            "+-----+---+---------------+---+\n",
            "\n"
          ]
        }
      ]
    },
    {
      "cell_type": "markdown",
      "source": [
        "Примеры разных Join`ов\n"
      ],
      "metadata": {
        "id": "1NgG-yKOlR6s"
      }
    },
    {
      "cell_type": "markdown",
      "source": [
        "В PySpark доступно несколько соединений. Давайте разбирать их с примерами.\n",
        "\n",
        "Для начала подготовим примеры данных."
      ],
      "metadata": {
        "id": "-xG7S7uylbMT"
      }
    },
    {
      "cell_type": "code",
      "source": [
        "from pyspark.sql import SparkSession\n",
        "\n",
        "# Создание SparkSession\n",
        "spark = SparkSession.builder.appName(\"JoinExamples\").getOrCreate()\n",
        "\n",
        "# Пример данных для DataFrame people\n",
        "people_data = [\n",
        "    (\"John\", 30, 1),\n",
        "    (\"Doe\", 25, 2),\n",
        "    (\"Jane\", 35, 1),\n",
        "    (\"Mark\", 40, 2),\n",
        "    (\"Smith\", 23, 3)\n",
        "]\n",
        "people_columns = [\"name\", \"age\", \"department_id\"]\n",
        "people_df = spark.createDataFrame(data=people_data, schema=people_columns)\n",
        "\n",
        "# Пример данных для DataFrame departments\n",
        "departments_data = [\n",
        "    (1, \"HR\"),\n",
        "    (2, \"Finance\"),\n",
        "    (3, \"Engineering\"),\n",
        "    (4, \"Marketing\")\n",
        "]\n",
        "departments_columns = [\"id\", \"department_name\"]\n",
        "departments_df = spark.createDataFrame(data=departments_data, schema=departments_columns)\n",
        "\n",
        "# Показ данных\n",
        "people_df.show()\n",
        "departments_df.show()"
      ],
      "metadata": {
        "colab": {
          "base_uri": "https://localhost:8080/"
        },
        "id": "kcpA1UXBlWV2",
        "outputId": "e6c96c00-4353-4e49-d1a6-9ddde4fb6851"
      },
      "execution_count": null,
      "outputs": [
        {
          "output_type": "stream",
          "name": "stdout",
          "text": [
            "+-----+---+-------------+\n",
            "| name|age|department_id|\n",
            "+-----+---+-------------+\n",
            "| John| 30|            1|\n",
            "|  Doe| 25|            2|\n",
            "| Jane| 35|            1|\n",
            "| Mark| 40|            2|\n",
            "|Smith| 23|            3|\n",
            "+-----+---+-------------+\n",
            "\n",
            "+---+---------------+\n",
            "| id|department_name|\n",
            "+---+---------------+\n",
            "|  1|             HR|\n",
            "|  2|        Finance|\n",
            "|  3|    Engineering|\n",
            "|  4|      Marketing|\n",
            "+---+---------------+\n",
            "\n"
          ]
        }
      ]
    },
    {
      "cell_type": "markdown",
      "source": [
        "Внутреннее соединение (Inner Join)\n"
      ],
      "metadata": {
        "id": "AVOdsOCklqxy"
      }
    },
    {
      "cell_type": "code",
      "source": [
        "# Внутреннее соединение\n",
        "inner_join_df = people_df.join(departments_df, people_df.department_id == departments_df.id, \"inner\")\n",
        "inner_join_df.show()"
      ],
      "metadata": {
        "colab": {
          "base_uri": "https://localhost:8080/"
        },
        "id": "WcnZxYsZlrH-",
        "outputId": "322123ad-86ab-4629-d0d4-075b4180958b"
      },
      "execution_count": null,
      "outputs": [
        {
          "output_type": "stream",
          "name": "stdout",
          "text": [
            "+-----+---+-------------+---+---------------+\n",
            "| name|age|department_id| id|department_name|\n",
            "+-----+---+-------------+---+---------------+\n",
            "| John| 30|            1|  1|             HR|\n",
            "| Jane| 35|            1|  1|             HR|\n",
            "|  Doe| 25|            2|  2|        Finance|\n",
            "| Mark| 40|            2|  2|        Finance|\n",
            "|Smith| 23|            3|  3|    Engineering|\n",
            "+-----+---+-------------+---+---------------+\n",
            "\n"
          ]
        }
      ]
    },
    {
      "cell_type": "markdown",
      "source": [
        "Левое внешнее соединение (Left Outer Join)\n"
      ],
      "metadata": {
        "id": "Nj_owriVl_O7"
      }
    },
    {
      "cell_type": "code",
      "source": [
        "# Левое внешнее соединение\n",
        "left_outer_join_df = people_df.join(departments_df, people_df.department_id == departments_df.id, \"left_outer\")\n",
        "left_outer_join_df.show()"
      ],
      "metadata": {
        "colab": {
          "base_uri": "https://localhost:8080/"
        },
        "id": "YVEycs9RluzY",
        "outputId": "b89e5c32-90e0-4a9f-c8ab-21d09aae5f1b"
      },
      "execution_count": null,
      "outputs": [
        {
          "output_type": "stream",
          "name": "stdout",
          "text": [
            "+-----+---+-------------+---+---------------+\n",
            "| name|age|department_id| id|department_name|\n",
            "+-----+---+-------------+---+---------------+\n",
            "| John| 30|            1|  1|             HR|\n",
            "|  Doe| 25|            2|  2|        Finance|\n",
            "| Jane| 35|            1|  1|             HR|\n",
            "|Smith| 23|            3|  3|    Engineering|\n",
            "| Mark| 40|            2|  2|        Finance|\n",
            "+-----+---+-------------+---+---------------+\n",
            "\n"
          ]
        }
      ]
    },
    {
      "cell_type": "markdown",
      "source": [
        "Правое внешнее соединение (Right Outer Join)\n"
      ],
      "metadata": {
        "id": "X6JsgOehmCjP"
      }
    },
    {
      "cell_type": "code",
      "source": [
        "# Правое внешнее соединение\n",
        "right_outer_join_df = people_df.join(departments_df, people_df.department_id == departments_df.id, \"right_outer\")\n",
        "right_outer_join_df.show()"
      ],
      "metadata": {
        "colab": {
          "base_uri": "https://localhost:8080/"
        },
        "id": "zTP5ibGDmE3j",
        "outputId": "2e0c7a0a-3fda-4faa-98ad-524185d63d4c"
      },
      "execution_count": null,
      "outputs": [
        {
          "output_type": "stream",
          "name": "stdout",
          "text": [
            "+-----+----+-------------+---+---------------+\n",
            "| name| age|department_id| id|department_name|\n",
            "+-----+----+-------------+---+---------------+\n",
            "| Jane|  35|            1|  1|             HR|\n",
            "| John|  30|            1|  1|             HR|\n",
            "| Mark|  40|            2|  2|        Finance|\n",
            "|  Doe|  25|            2|  2|        Finance|\n",
            "|Smith|  23|            3|  3|    Engineering|\n",
            "| NULL|NULL|         NULL|  4|      Marketing|\n",
            "+-----+----+-------------+---+---------------+\n",
            "\n"
          ]
        }
      ]
    },
    {
      "cell_type": "markdown",
      "source": [
        "Полное внешнее соединение (Full Outer Join)\n"
      ],
      "metadata": {
        "id": "4fvX19XNmRoe"
      }
    },
    {
      "cell_type": "code",
      "source": [
        "full_outer_join_df = people_df.join(departments_df, people_df.department_id == departments_df.id, \"outer\")\n",
        "full_outer_join_df.show()"
      ],
      "metadata": {
        "colab": {
          "base_uri": "https://localhost:8080/"
        },
        "id": "0BevTydnmSVU",
        "outputId": "ab43c27a-b35f-4ef4-af22-608130e35d08"
      },
      "execution_count": null,
      "outputs": [
        {
          "output_type": "stream",
          "name": "stdout",
          "text": [
            "+-----+----+-------------+---+---------------+\n",
            "| name| age|department_id| id|department_name|\n",
            "+-----+----+-------------+---+---------------+\n",
            "| John|  30|            1|  1|             HR|\n",
            "| Jane|  35|            1|  1|             HR|\n",
            "|  Doe|  25|            2|  2|        Finance|\n",
            "| Mark|  40|            2|  2|        Finance|\n",
            "|Smith|  23|            3|  3|    Engineering|\n",
            "| NULL|NULL|         NULL|  4|      Marketing|\n",
            "+-----+----+-------------+---+---------------+\n",
            "\n"
          ]
        }
      ]
    },
    {
      "cell_type": "markdown",
      "source": [
        "Полное перекрестное соединение (Cross Join)\n"
      ],
      "metadata": {
        "id": "0k1nj-MqmfLq"
      }
    },
    {
      "cell_type": "code",
      "source": [
        "cross_join_df = people_df.crossJoin(departments_df)\n",
        "cross_join_df.show()"
      ],
      "metadata": {
        "colab": {
          "base_uri": "https://localhost:8080/"
        },
        "id": "_TsBNeaemc-O",
        "outputId": "423ba341-ed01-43cd-f05e-0d4cfce33f9a"
      },
      "execution_count": null,
      "outputs": [
        {
          "output_type": "stream",
          "name": "stdout",
          "text": [
            "+-----+---+-------------+---+---------------+\n",
            "| name|age|department_id| id|department_name|\n",
            "+-----+---+-------------+---+---------------+\n",
            "| John| 30|            1|  1|             HR|\n",
            "| John| 30|            1|  2|        Finance|\n",
            "|  Doe| 25|            2|  1|             HR|\n",
            "|  Doe| 25|            2|  2|        Finance|\n",
            "| John| 30|            1|  3|    Engineering|\n",
            "| John| 30|            1|  4|      Marketing|\n",
            "|  Doe| 25|            2|  3|    Engineering|\n",
            "|  Doe| 25|            2|  4|      Marketing|\n",
            "| Jane| 35|            1|  1|             HR|\n",
            "| Jane| 35|            1|  2|        Finance|\n",
            "| Mark| 40|            2|  1|             HR|\n",
            "| Mark| 40|            2|  2|        Finance|\n",
            "|Smith| 23|            3|  1|             HR|\n",
            "|Smith| 23|            3|  2|        Finance|\n",
            "| Jane| 35|            1|  3|    Engineering|\n",
            "| Jane| 35|            1|  4|      Marketing|\n",
            "| Mark| 40|            2|  3|    Engineering|\n",
            "| Mark| 40|            2|  4|      Marketing|\n",
            "|Smith| 23|            3|  3|    Engineering|\n",
            "|Smith| 23|            3|  4|      Marketing|\n",
            "+-----+---+-------------+---+---------------+\n",
            "\n"
          ]
        }
      ]
    },
    {
      "cell_type": "markdown",
      "source": [
        "Соединение с использованием условия (Join with Condition)\n"
      ],
      "metadata": {
        "id": "6zgU_XfimmK6"
      }
    },
    {
      "cell_type": "code",
      "source": [
        "condition_join_df = people_df.join(departments_df, (people_df.department_id == departments_df.id) & (people_df.age > 30), \"inner\")\n",
        "condition_join_df.show()"
      ],
      "metadata": {
        "colab": {
          "base_uri": "https://localhost:8080/"
        },
        "id": "zVI81BqGmpVB",
        "outputId": "2cb3567b-5fba-4cb9-df43-a4bf5fc051ee"
      },
      "execution_count": null,
      "outputs": [
        {
          "output_type": "stream",
          "name": "stdout",
          "text": [
            "+----+---+-------------+---+---------------+\n",
            "|name|age|department_id| id|department_name|\n",
            "+----+---+-------------+---+---------------+\n",
            "|Jane| 35|            1|  1|             HR|\n",
            "|Mark| 40|            2|  2|        Finance|\n",
            "+----+---+-------------+---+---------------+\n",
            "\n"
          ]
        }
      ]
    }
  ]
}