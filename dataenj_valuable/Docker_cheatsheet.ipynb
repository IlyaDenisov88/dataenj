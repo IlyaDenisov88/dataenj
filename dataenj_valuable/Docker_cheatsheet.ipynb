{
  "nbformat": 4,
  "nbformat_minor": 0,
  "metadata": {
    "colab": {
      "provenance": [],
      "authorship_tag": "ABX9TyMQNLs8KFdjDx5FjDAJwtqp",
      "include_colab_link": true
    },
    "kernelspec": {
      "name": "python3",
      "display_name": "Python 3"
    },
    "language_info": {
      "name": "python"
    }
  },
  "cells": [
    {
      "cell_type": "markdown",
      "metadata": {
        "id": "view-in-github",
        "colab_type": "text"
      },
      "source": [
        "<a href=\"https://colab.research.google.com/github/IlyaDenisov88/dataenj/blob/main/dataenj_valuable/Docker_cheatsheet.ipynb\" target=\"_parent\"><img src=\"https://colab.research.google.com/assets/colab-badge.svg\" alt=\"Open In Colab\"/></a>"
      ]
    },
    {
      "cell_type": "markdown",
      "source": [
        "## Шпаргалка по основным командам Docker\n",
        "1. Установка Docker\n",
        "  * `docker --version`: Проверка установленной версии Docker.\n",
        "2. Управление образами (Images)\n",
        "  * `docker pull <image>`: Загрузка образа из Docker Hub (следующий шаг об этом).\n",
        "  * `docker build -t <image_name> <path>`: Сборка образа из Dockerfile.\n",
        "  * `docker images`: Просмотр списка локально сохраненных образов.\n",
        "  * `docker rmi <image>`: Удаление образа.\n",
        "3. Управление контейнерами\n",
        "  * `docker run <options> <image>`: Запуск нового контейнера.\n",
        "  * `docker ps`: Просмотр списка запущенных контейнеров.\n",
        "  * `docker ps -a`: Просмотр списка всех контейнеров вообще.\n",
        "  * `docker stop <container>`: Остановка запущенного контейнера.\n",
        "  * `docker start <container>`: Запуск остановленного контейнера.\n",
        "  * `docker restart <container>`: Перезапуск контейнера.\n",
        "  * `docker rm <container>`: Удаление остановленного контейнера.\n",
        "4. Работа с томами (Volumes)\n",
        "  * `docker volume create <volume>`: Создание тома.\n",
        "  * `docker volume ls`: Просмотр списка томов.\n",
        "  * `docker volume inspect <volume>`: Просмотр деталей тома.\n",
        "  * `docker volume rm <volume>`: Удаление тома.\n",
        "5. Работа с сетями (Networks)\n",
        "  * `docker network create <network>`: Создание сети.\n",
        "  * `docker network ls`: Просмотр списка сетей.\n",
        "  * `docker network inspect <network>`: Просмотр деталей сети.\n",
        "  * `docker network rm <network>`: Удаление сети.\n",
        "6. Полезные команды\n",
        "  * `docker exec -it <container> <command>`: Выполнение команды в запущенном контейнере.\n",
        "  * `docker logs <container>`: Просмотр логов контейнера.\n",
        "  * `docker inspect <container_or_image>`: Просмотр деталей контейнера или образа.\n",
        "  * `docker-compose up`: Запуск всех сервисов, определенных в docker-compose.yml.\n",
        "  * `docker-compose stop`: Остановка  всех контейнеров, сетей и томов, созданных `docker-compose up`.\n",
        "  * `docker-compose down`: Остановка  всех контейнеров, сетей и томов, созданных `docker-compose up` И УДАЛЕНИЕ ИХ.\n"
      ],
      "metadata": {
        "id": "BiXgnHobrmJO"
      }
    }
  ]
}