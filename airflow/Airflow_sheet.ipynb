{
  "nbformat": 4,
  "nbformat_minor": 0,
  "metadata": {
    "colab": {
      "provenance": [],
      "authorship_tag": "ABX9TyOHoJEUQlOC15/Xge7AwF+f",
      "include_colab_link": true
    },
    "kernelspec": {
      "name": "python3",
      "display_name": "Python 3"
    },
    "language_info": {
      "name": "python"
    }
  },
  "cells": [
    {
      "cell_type": "markdown",
      "metadata": {
        "id": "view-in-github",
        "colab_type": "text"
      },
      "source": [
        "<a href=\"https://colab.research.google.com/github/IlyaDenisov88/dataenj/blob/main/airflow/Airflow_sheet.ipynb\" target=\"_parent\"><img src=\"https://colab.research.google.com/assets/colab-badge.svg\" alt=\"Open In Colab\"/></a>"
      ]
    },
    {
      "cell_type": "markdown",
      "source": [
        "### Создание DAG\n",
        "\n"
      ],
      "metadata": {
        "id": "JlgOGsT38WQJ"
      }
    },
    {
      "cell_type": "code",
      "execution_count": null,
      "metadata": {
        "collapsed": true,
        "id": "SIfCDnec30Ud"
      },
      "outputs": [],
      "source": [
        "from airflow import DAG\n",
        "from airflow.operators.bash import BashOperator\n",
        "\n",
        "from datetime import datetime\n",
        "\n",
        "default_args = {\n",
        "    'start_date': datetime(2023, 1, 1),\n",
        "    'owner': 'airflow',\n",
        "}\n",
        "\n",
        "dag = DAG(\n",
        "    'my_dag',\n",
        "    default_args=default_args,\n",
        "    description='My first DAG',\n",
        "    schedule_interval='@daily',  # ежедневное выполнение\n",
        ")\n",
        "\n",
        "task1 = BashOperator(\n",
        "    task_id='task1',\n",
        "    bash_command='echo \"Task 1\"',\n",
        "    dag=dag\n",
        ")\n",
        "\n",
        "task2 = BashOperator(\n",
        "    task_id='task2',\n",
        "    bash_command='echo \"Task 2\"',\n",
        "    dag=dag\n",
        ")\n",
        "\n",
        "task1 >> task2  # Определение зависимости между задачами"
      ]
    },
    {
      "cell_type": "markdown",
      "source": [
        "Что же тут написано, давайте разберемся:\n",
        "\n",
        "**1. Импорт библиотек:**\n",
        "\n",
        "* `airflow`: Импортирует библиотеку Airflow, которая используется для создания и управления DAG.\n",
        "* `BashOperator`: Импортирует класс BashOperator из библиотеки Airflow, который используется для выполнения Bash-команд в качестве задач.\n",
        "* `datetime`: Импортирует модуль datetime из стандартной библиотеки, который используется для работы с датами и временем.\n",
        "\n",
        "**2. Определение аргументов по умолчанию:**\n",
        "\n",
        "* `default_args`: Создает словарь default_args, который задает аргументы по умолчанию для всех задач в DAG.\n",
        "* `start_date`: Устанавливает дату начала DAG на 1 января 2023 года.\n",
        "* `owner`: Устанавливает владельца DAG на 'airflow', что является общепринятым значением по умолчанию.\n",
        "\n",
        "**3. Создание DAG:**\n",
        "\n",
        "* `dag = DAG(...)`: Создает объект DAG с именем dag с помощью следующих параметров:\n",
        "  * `'my_dag'`: Задает имя DAG как 'my_dag'.\n",
        "  * `default_args=default_args`: Указывает словарь аргументов по умолчанию, определенный ранее.\n",
        "  * `description='Мой первый DAG'`: Предоставляет описание DAG.\n",
        "  * `schedule_interval='@daily'`: Устанавливает интервал выполнения DAG для ежедневного запуска.\n",
        "\n",
        "**4. Определение задач:**\n",
        "\n",
        "* `task1 = BashOperator(...)`: Создает объект задачи task1 типа BashOperator с помощью следующих параметров:\n",
        "\n",
        "  * `task_id='task1'`: Устанавливает ID задачи на 'task1'.\n",
        "  * `bash_command='echo \"Задача 1\"'`: Указывает Bash-команду для выполнения, которая выводит \"Задача 1\" в консоль.\n",
        "  * `dag=dag`: Назначает задачу объекту dag.\n",
        "  * `task2 = BashOperator(...)`: Создает объект задачи task2 типа BashOperator с помощью следующих параметров:\n",
        "\n",
        "* `task_id='task2'`: Устанавливает ID задачи на 'task2'.\n",
        "  * `bash_command='echo \"Задача 2\"'`: Указывает Bash-команду для выполнения, которая выводит \"Задача 2\" в консоль.\n",
        "  * `dag=dag`: Назначает задачу объекту dag.\n",
        "\n",
        "**5. Зависимости задач:**\n",
        "\n",
        "* `task1 >> task2`: Определяет зависимость между задачами task1 и task2, указывающую, что task2 должна выполняться только после успешного завершения task1.\n",
        "Этот код определяет простой DAG, который последовательно выполняет две Bash-задачи, для простоты примера. Разумеется, при создании Ваших DAG никаких ограничений не существует, в разумных пределах конечно)."
      ],
      "metadata": {
        "id": "Rm1HxZdg6BKX"
      }
    },
    {
      "cell_type": "markdown",
      "source": [
        "### Операторы Airflow. Типы операторов"
      ],
      "metadata": {
        "id": "E49YkjkC8Yek"
      }
    },
    {
      "cell_type": "markdown",
      "source": [
        "\n",
        "1. **Action Operators**: Выполняют определенные действия или задачи. Например:\n",
        "\n",
        "  * BashOperator — выполняет bash-команду.\n",
        "  * PythonOperator — выполняет функцию Python.\n",
        "  * EmailOperator — отправляет email.\n",
        "2. **Transfer Operators**: Перемещают данные между различными источниками и приемниками. Например:\n",
        "\n",
        "  * S3ToRedshiftOperator — переносит данные из Amazon S3 в Redshift.\n",
        "  * GoogleCloudStorageToBigQueryOperator — загружает данные из Google Cloud Storage в BigQuery.\n",
        "3. **Sensor Operators**: Ожидают наступления определенного события или условия.(об этом в  дальнейших шагах)\n",
        "\n"
      ],
      "metadata": {
        "id": "VTe6_TFYApcG"
      }
    },
    {
      "cell_type": "markdown",
      "source": [
        "Для создания задачи в Airflow, вы определяете оператор в том самом файле Python, который описывает ваш DAG. Каждый оператор требует задания уникального task_id, который идентифицирует задачу внутри DAG. Операторы также могут принимать множество параметров, которые определяют их поведение.\n",
        "\n",
        "Основные параметры, которые могут быть настроены в большинстве операторов, включают:\n",
        "\n",
        "* task_id: Уникальный идентификатор задачи в рамках DAG.\n",
        "* start_date: Дата и время, начиная с которых задача активна.\n",
        "* retries: Количество попыток повторного выполнения задачи в случае её неудачного завершения.\n",
        "* retry_delay: Задержка между попытками повторного выполнения.\n",
        "* schedule_interval: Интервал, с которым задача должна выполняться.\n"
      ],
      "metadata": {
        "id": "gtziPVhJD42x"
      }
    },
    {
      "cell_type": "markdown",
      "source": [
        "Вот некоторые из наиболее часто используемых операторов в Airflow:\n",
        "\n",
        "**BashOperator**: Запускает команды в операционной системе, используя интерпретатор командной строки (например, Bash).\n"
      ],
      "metadata": {
        "id": "AAjmKb9lD_Xb"
      }
    },
    {
      "cell_type": "code",
      "source": [
        "from airflow import DAG\n",
        "from airflow.operators.bash import BashOperator\n",
        "from datetime import datetime\n",
        "\n",
        "dag = DAG('bash_example', start_date=datetime(2024, 1, 1))\n",
        "\n",
        "task1 = BashOperator(\n",
        "    task_id='print_date',\n",
        "    bash_command='date',\n",
        "    dag=dag\n",
        ")\n",
        "\n",
        "task2 = BashOperator(\n",
        "    task_id='echo_hello',\n",
        "    bash_command='echo \"Hello Airflow\"',\n",
        "    dag=dag\n",
        ")\n",
        "\n",
        "task1 >> task2\n"
      ],
      "metadata": {
        "id": "cUOTJdBJAm-R"
      },
      "execution_count": null,
      "outputs": []
    },
    {
      "cell_type": "markdown",
      "source": [
        "* PythonOperator: Выполняет произвольный код Python в рамках оператора.\n"
      ],
      "metadata": {
        "id": "u8DOrdLYEITT"
      }
    },
    {
      "cell_type": "code",
      "source": [
        "from airflow import DAG\n",
        "from airflow.operators.python import PythonOperator\n",
        "from datetime import datetime\n",
        "\n",
        "dag = DAG('python_example', start_date=datetime(2024, 1, 1))\n",
        "\n",
        "def print_hello():\n",
        "    print(\"Hello Airflow\")\n",
        "\n",
        "task = PythonOperator(\n",
        "    task_id='print_hello',\n",
        "    python_callable=print_hello,\n",
        "    dag=dag\n",
        ")\n"
      ],
      "metadata": {
        "id": "SPLPn-AFEMgD"
      },
      "execution_count": null,
      "outputs": []
    },
    {
      "cell_type": "markdown",
      "source": [
        "* EmailOperator: Отправляет электронные письма.\n",
        "\n"
      ],
      "metadata": {
        "id": "WAkJs_yyEbzR"
      }
    },
    {
      "cell_type": "code",
      "source": [
        "from airflow import DAG\n",
        "from airflow.operators.email import EmailOperator\n",
        "\n",
        "from datetime import datetime\n",
        "\n",
        "dag = DAG('email_example', start_date=datetime(2024, 1, 1))\n",
        "\n",
        "task = EmailOperator(\n",
        "    task_id='send_email',\n",
        "    to='recipient@example.com',\n",
        "    subject='Airflow Email',\n",
        "    html_content='<p>This is an Airflow email.</p>',\n",
        "    dag=dag\n",
        ")"
      ],
      "metadata": {
        "id": "MBx-Kb53EdA0"
      },
      "execution_count": null,
      "outputs": []
    },
    {
      "cell_type": "markdown",
      "source": [
        "* SQLExecuteQueryOperator: Выполняет SQL-запросы на заданном подключении к базе данных.\n",
        "\n"
      ],
      "metadata": {
        "id": "wRMBbm2oEgtj"
      }
    },
    {
      "cell_type": "code",
      "source": [
        "from airflow import DAG\n",
        "from airflow.providers.common.sql.operators.sql import SQLExecuteQueryOperator\n",
        "\n",
        "from datetime import datetime\n",
        "\n",
        "dag = DAG('sql_example', start_date=datetime(2024, 1, 1))\n",
        "\n",
        "task = SQLExecuteQueryOperator(\n",
        "    task_id='run_sql',\n",
        "    sql='SELECT * FROM my_table',\n",
        "    database='my_database',\n",
        "    dag=dag\n",
        ")\n"
      ],
      "metadata": {
        "id": "sKYXa_FwEiLT"
      },
      "execution_count": null,
      "outputs": []
    },
    {
      "cell_type": "markdown",
      "source": [
        "* DockerOperator: Запускает контейнеры Docker.\n",
        "\n"
      ],
      "metadata": {
        "id": "iXo25JvgHvfV"
      }
    },
    {
      "cell_type": "code",
      "source": [
        "from airflow import DAG\n",
        "from airflow.providers.docker.operators.docker import DockerOperator\n",
        "\n",
        "from datetime import datetime\n",
        "\n",
        "dag = DAG('docker_example', start_date=datetime(2023, 1, 1))\n",
        "\n",
        "task = DockerOperator(\n",
        "    task_id='run_container',\n",
        "    image='my_image:latest',\n",
        "    command='python script.py',\n",
        "    dag=dag\n",
        ")\n"
      ],
      "metadata": {
        "id": "0sXwjYaRHweW"
      },
      "execution_count": null,
      "outputs": []
    },
    {
      "cell_type": "markdown",
      "source": [
        " Этот DAG с одной задачей, которая запускает Docker-контейнер из указанного образа с помощью оператора DockerOperator, плюс python script.py выполняется внутри контейнера.\n",
        "\n"
      ],
      "metadata": {
        "id": "qUSf2DrfHyb4"
      }
    },
    {
      "cell_type": "markdown",
      "source": [
        "*   HiveOperator: Выполняет операции Hive.\n",
        "*   S3FileTransferOperator: Копирует файлы между локальной файловой системой и Amazon S3.\n",
        "*   SlackAPIOperator: Отправляет сообщения в Slack.\n",
        "*  SparkSubmitOperator: Отправляет задачи Spark для выполнения на кластере Apache Spark.\n",
        "*   HttpOperator: Выполняет HTTP-запросы к удаленным серверам.\n"
      ],
      "metadata": {
        "id": "aBUT5pbqH2Ai"
      }
    },
    {
      "cell_type": "markdown",
      "source": [
        "**При использовании операторов в Airflow рекомендуется:**\n",
        "\n",
        "* Использовать параметры для управления поведением операторов, чтобы сделать выполнение задач более гибким и настраиваемым.\n",
        "* Определять зависимости между задачами ясно и логически, используя set_upstream() или set_downstream(), либо операторы >> и <<.\n",
        "* Избегать запуска тяжелых процессов непосредственно в операторах, таких как PythonOperator, и вместо этого вызывать внешние скрипты или сервисы.\n"
      ],
      "metadata": {
        "id": "LdlqJMzzIdWj"
      }
    },
    {
      "cell_type": "markdown",
      "source": [
        "Это лишь некоторые из операторов, доступных в Apache Airflow. Каждый оператор имеет свои уникальные аргументы, которые позволяют настроить его поведение. Вы также можете создавать собственные пользовательские операторы, наследуемые от базового класса BaseOperator, чтобы выполнить специфические для вашего рабочего процесса задачи.\n",
        "\n"
      ],
      "metadata": {
        "id": "HpmTk8P6Ju-2"
      }
    },
    {
      "cell_type": "markdown",
      "source": [
        " ### Параметры Default Args. Основные параметры. Время и частота запуска\n",
        "\n",
        "\n",
        "\n"
      ],
      "metadata": {
        "id": "A5MQH9LnKKcX"
      }
    },
    {
      "cell_type": "markdown",
      "source": [
        "Параметры `default_args` используются для определения значений по умолчанию для атрибутов в объекте DAG (Directed Acyclic Graph) в Apache Airflow. Эти параметры могут быть применены ко всем задачам (операторам) внутри этого DAG, если для них не указаны собственные значения. Вот некоторые распространенные параметры `default_args`:\n",
        "\n",
        "\n",
        "1.   **owner** (str): Владелец или автор DAG. Это имя пользователя или группы, ответственных за данный DAG.\n",
        "2.   **depends_on_past** (bool): Определяет, зависит ли выполнение каждой задачи от успешного завершения ее предыдущей итерации (если True).\n",
        "3. **start_date** (datetime): Дата и время, с которой начинается выполнение DAG. Это может быть указано как строка в формате 'YYYY-MM-DD' или объект datetime.\n",
        "\n",
        "4.      **end_date** (datetime): Дата и время, после которых выполнение DAG больше не будет запускаться. Обычно используется для установки конечного срока выполнения DAG.\n",
        "\n",
        "5.      **retries** (int): Количество попыток выполнения задачи в случае ошибки.\n",
        "\n",
        "6.      **retry_delay** (timedelta): Время задержки между попытками выполнения задачи в случае ошибки.\n",
        "\n",
        "7.      **email** (str): Адрес электронной почты, на который будут отправляться уведомления о статусе выполнения DAG.\n",
        "\n",
        "8.      **email_on_failure** (bool): Указывает, следует ли отправлять уведомления о неудачных попытках выполнения задачи по электронной почте.\n",
        "\n",
        "9.      **email_on_retry** (bool): Указывает, следует ли отправлять уведомления о повторных попытках выполнения задачи по электронной почте.\n",
        "\n",
        "10.  **schedule_interval** (str or timedelta): Интервал, с которым запускается DAG. Может быть строкой в формате «cron» или объектом timedelta.\n",
        "\n",
        "11.  **max_active_runs** (int): Максимальное количество активных запусков DAG одновременно.\n",
        "\n",
        "12.  **catchup** (bool): Определяет, должен ли DAG выполнять задачи для пропущенных интервалов времени, если это включено.\n",
        "\n",
        "\n",
        "\n",
        "\n",
        "\n",
        "\n",
        "\n"
      ],
      "metadata": {
        "id": "72elw02iKXqQ"
      }
    },
    {
      "cell_type": "code",
      "source": [
        "# Определение параметров default_args\n",
        "default_args = {\n",
        "    'owner': 'airflow',\n",
        "    'depends_on_past': False,  # Установлен в False, что означает, что выполнение задач не зависит от результатов их предыдущих запусков.\n",
        "    'start_date': datetime(2023, 1, 1),  # Установлен на 1 января 2023 года.\n",
        "    'end_date': None,  # Нет конечной даты\n",
        "    'retries': 1,  # Retries установлен на 1, что означает одну попытку выполнения задачи в случае ошибки.\n",
        "    'retry_delay': timedelta(minutes=5),  # Retry delay установлен на 5 минут между попытками выполнения задачи в случае ошибки.\n",
        "    'email': 'your_email@example.com',  # Email установлен как ваш адрес электронной почты.\n",
        "    'email_on_failure': True,  # Установлен в True, что означает отправку уведомлений о неудачных попытках выполнения задачи по электронной почте.\n",
        "    'email_on_retry': False,  # Установлен в False, что означает, что уведомления о повторных попытках выполнения задачи по электронной почте не отправляются\n",
        "    'schedule_interval': '@daily',  # Ежедневное выполнение\n",
        "    'max_active_runs': 1,  # Установлено на 1, что ограничивает количество одновременных активных запусков DAG до 1.\n",
        "    'catchup': False,  # Установлено в False, что отключает выполнение задач для пропущенных интервалов времени.\n",
        "}\n",
        "\n",
        "# Создание объекта DAG с использованием параметров default_args\n",
        "dag = DAG('example_dag', default_args=default_args, catchup=False)\n"
      ],
      "metadata": {
        "id": "TlCSQFSBMsY4"
      },
      "execution_count": null,
      "outputs": []
    },
    {
      "cell_type": "markdown",
      "source": [
        "Время и частота запуска\n",
        "\n",
        "1. `'start_date': datetime(2023, 1, 1),'schedule_interval': '@daily'`:\n",
        "\n",
        "    * DAG начнет выполняться с 1 января 2023 года.\n",
        "    * Затем DAG будет запускаться ежедневно (каждый день) в течение всего периода, не имея конечной даты.\n",
        "2.      `'start_date': datetime(2023, 1, 1), 'schedule_interval': timedelta(days=2)`:\n",
        "\n",
        "   * DAG начнет выполняться с 1 января 2023 года.\n",
        "   * Затем DAG будет запускаться каждые 2 дня (каждые 48 часов) в течение всего периода, не имея конечной даты.\n",
        "3.      `'start_date': datetime(2023, 1, 1), 'schedule_interval': '@hourly'`:\n",
        "\n",
        "   * DAG начнет выполняться с 1 января 2023 года.\n",
        "   * Затем DAG будет запускаться каждый час в течение всего периода, не имея конечной даты.\n",
        "4.      `'start_date': datetime(2023, 1, 1), 'schedule_interval': None`:\n",
        "\n",
        "   * DAG начнет выполняться с 1 января 2023 года.\n",
        "   * Однако, в этом случае DAG не будет выполняться автоматически по расписанию, и выполнение должно быть запущено вручную.\n",
        "5.      `'start_date': datetime(2023, 1, 1), 'schedule_interval': '0 0 * * *'`:\n",
        "\n",
        "  * DAG начнет выполняться с 1 января 2023 года.\n",
        "  * Затем DAG будет запускаться каждый день в полночь (согласно cron-выражению '0 0 * * *') в течение всего периода, не имея конечной даты.\n",
        "6.      `'start_date': datetime(2023, 1, 1), 'schedule_interval': '@weekly'`:\n",
        "\n",
        "  * DAG начнет выполняться с 1 января 2023 года.\n",
        "  * Затем DAG будет запускаться еженедельно (раз в неделю) в течение всего периода, не имея конечной даты.\n"
      ],
      "metadata": {
        "id": "vAZTJ8dTNDrR"
      }
    },
    {
      "cell_type": "markdown",
      "source": [
        "### Airflow UI (Пользовательский Интерфейс)\n"
      ],
      "metadata": {
        "id": "zzcBBA9IN4nl"
      }
    },
    {
      "cell_type": "markdown",
      "source": [
        "Airflow предоставляет веб-интерфейс, который позволяет пользователям визуально управлять выполнением и мониторингом рабочих процессов. Веб-интерфейс предоставляет следующие возможности:\n",
        "\n",
        "* **DAG Overview**: Просмотр всех DAGs, доступных в системе, с информацией о том, когда каждый DAG был запущен, его статус и интерактивное представление структуры DAG.\n",
        "* **Task Instance Details**: Подробная информация о каждой задаче в рамках DAG, включая логи выполнения, время начала и окончания, а также текущий статус.\n",
        "* **Code Viewing**: Возможность просмотра кода, который определяет каждый DAG, прямо из интерфейса.\n",
        "* **Triggering & Clearing**: Возможность ручного запуска или очистки задач для тестирования или оперативного управления.\n",
        "* **Gantt Chart & Graph View**: Визуализация выполнения DAG в виде диаграммы Ганта или графического представления, что помогает анализировать продолжительность и зависимости задач.\n"
      ],
      "metadata": {
        "id": "SP1kLru3N7DC"
      }
    },
    {
      "cell_type": "markdown",
      "source": [
        "**Scheduling (Планирование)**\n",
        "\n",
        "Планирование в Airflow относится к автоматическому запуску рабочих процессов на предварительно заданных интервалах. Это осуществляется с помощью cron-подобных выражений, которые позволяют очень гибко настраивать частоту запуска. Возможности планирования включают:\n",
        "\n",
        "* **Start Date**: Дата и время, с которого начнется выполнение первого запуска DAG.\n",
        "* **End Date**: Опциональная дата и время, после которых DAG больше не будет запускаться.\n",
        "* **Interval**: Расписание, по которому DAG должен выполняться (например, ежедневно, каждые пять минут и т.д.).\n"
      ],
      "metadata": {
        "id": "1nGHVjDKSGKm"
      }
    },
    {
      "cell_type": "markdown",
      "source": [
        "### Переменные, подключения и XCom\n"
      ],
      "metadata": {
        "id": "NxwymyIljcj5"
      }
    },
    {
      "cell_type": "markdown",
      "source": [
        "1. **Переменные (Variables)**: Переменные в Airflow представляют собой ключ-значение пары, которые могут быть использованы для хранения конфигурационных данных и параметров, доступных в вашем рабочем процессе. Некоторые примеры использования переменных могут включать настройки подключения к базе данных, настройки авторизации и другие параметры, которые могут меняться в зависимости от окружения выполнения. Переменные можно определить и настроить через веб-интерфейс Airflow или использовать API для программного управления ими. Для доступа к переменным в коде задачи вы можете использовать объект `Variable` модуля `airflow.models`.\n",
        "\n",
        "2. **Подключения (Connections)**: Подключения в Airflow представляют собой параметры, необходимые для установки связи с внешними источниками данных, такими как базы данных, сервисы облачных провайдеров, API и другие ресурсы. Эти параметры, такие как хост, порт, имя пользователя, пароль и другие, могут быть настроены и управляются в веб-интерфейсе Airflow или через API. Подключения в Airflow могут быть использованы в коде задач для установки соединения с внешними источниками данных. Для доступа к подключениям в коде задачи вы можете использовать объект `Connection` модуля `airflow.hooks.base`.\n",
        "\n",
        "3. **XCom**: XCom (Cross Communication) в Airflow представляет собой механизм обмена данными между задачами внутри рабочего процесса. XCom позволяет передавать и получать данные между задачами в виде ключ-значение пары. Это может быть полезно, когда вам нужно передать результат выполнения одной задачи в другую задачу для дальнейшей обработки. Задачи могут читать и записывать XCom значения с использованием методов xcom_pull() и xcom_push() соответственно. Для доступа к XCom значениям в коде задачи вы можете использовать объект `context` (контекст выполнения) и методы модуля `airflow.models`.\n",
        "\n"
      ],
      "metadata": {
        "id": "SLzeTYMjjhVZ"
      }
    },
    {
      "cell_type": "markdown",
      "source": [
        "**Переменные**"
      ],
      "metadata": {
        "id": "3kUQF-pGmwj0"
      }
    },
    {
      "cell_type": "markdown",
      "source": [
        "В Apache Airflow переменные можно создать через веб-интерфейс Airflow или с использованием API. Вот примеры создания переменных с использованием обоих подходов:\n",
        "\n",
        "1. Создание переменных через веб-интерфейс Airflow:\n",
        "\n",
        "  * Перейдите в веб-интерфейс Airflow ( доступен по адресу http://localhost:8080).\n",
        "  * В меню выберите «Admin» и затем «Variables».\n",
        "  * Нажмите кнопку «Create» или «Add Variable».\n",
        "  * Введите имя переменной (Key) и значение переменной (Value).\n",
        "  * Нажмите кнопку «Save» или «Add».\n",
        "\n",
        "\n",
        "2. Создание переменных с использованием API: Вы также можете использовать API для программного создания переменных. Вот пример использования API Python для создания переменной:\n",
        "\n"
      ],
      "metadata": {
        "id": "sbbeEh1il_A6"
      }
    },
    {
      "cell_type": "code",
      "source": [
        "import requests\n",
        "\n",
        "# URL для создания переменной\n",
        "url = 'http://localhost:8080/api/v1/variables'\n",
        "\n",
        "# Параметры запроса\n",
        "headers = {'Content-Type': 'application/json'}\n",
        "data = {\n",
        "    'key': 'my_variable',\n",
        "    'value': 'my_value'\n",
        "}\n",
        "\n",
        "# Отправка POST-запроса для создания переменной\n",
        "response = requests.post(url, headers=headers, json=data)\n",
        "\n",
        "# Проверка статуса ответа\n",
        "if response.status_code == 200:\n",
        "    print('Переменная успешно создана')\n",
        "else:\n",
        "    print('Ошибка при создании переменной:', response.status_code)\n"
      ],
      "metadata": {
        "id": "gSwR9RAul-O8"
      },
      "execution_count": null,
      "outputs": []
    },
    {
      "cell_type": "markdown",
      "source": [
        "В этом примере мы отправляем POST-запрос на URL `/api/v1/variables` с указанием имени переменной (Key) и ее значения (Value) в формате JSON. Если ответ имеет код состояния 200, значит переменная была успешно создана.\n",
        "\n",
        "Когда переменная создана, вы можете использовать ее в коде ваших задач с помощью объекта `Variable` модуля `airflow.models`. Вот пример использования переменной в коде -  в этом примере мы получаем значение переменной с помощью `Variable.get()` и выводим его в задаче с помощью функции `my_task()`:\n",
        "\n"
      ],
      "metadata": {
        "id": "8VHtE2b6mMnA"
      }
    },
    {
      "cell_type": "code",
      "source": [
        "from airflow import DAG\n",
        "from airflow.operators.python_operator import PythonOperator\n",
        "from airflow.models import Variable\n",
        "from datetime import datetime\n",
        "\n",
        "def my_task():\n",
        "    my_variable = Variable.get(\"my_variable\")\n",
        "    print(my_variable)\n",
        "\n",
        "with DAG('my_dag', schedule_interval='@daily', start_date=datetime(2024, 1, 1)) as dag:\n",
        "    task = PythonOperator(task_id='my_task', python_callable=my_task)\n"
      ],
      "metadata": {
        "id": "-B6pcPO7mk0g"
      },
      "execution_count": null,
      "outputs": []
    },
    {
      "cell_type": "markdown",
      "source": [
        "**Подключения**"
      ],
      "metadata": {
        "id": "qaYrDIB4mzia"
      }
    },
    {
      "cell_type": "markdown",
      "source": [
        "В Apache Airflow подключения можно создавать как через веб-интерфейс Airflow, так и с использованием API. Вот примеры создания подключений с использованием обоих подходов:\n",
        "\n",
        "1. Создание подключений через веб-интерфейс Airflow:\n",
        "\n",
        "  * Перейдите в веб-интерфейс Airflow ( доступен по адресу http://localhost:8080).\n",
        "  * В меню выберите «Admin» и затем «Connections».\n",
        "  * Нажмите кнопку «Create» или «Add Connection».\n",
        "  * Заполните поля для подключения, такие как Conn Id (идентификатор подключения), Conn Type (тип подключения), Host, Port, Login, Password и другие, в зависимости от типа подключения.\n",
        "  * Нажмите кнопку «Save» или «Add».\n",
        "2. Создание подключений с использованием API: Вы также можете использовать API для программного создания подключений. Вот пример использования API Python для создания подключения к базе данных PostgreSQL:\n",
        "\n"
      ],
      "metadata": {
        "id": "zFxPR9Ovm1ZL"
      }
    },
    {
      "cell_type": "code",
      "source": [
        "import requests\n",
        "\n",
        "# URL для создания подключения\n",
        "url = 'http://localhost:8080/api/v1/connections'\n",
        "\n",
        "# Параметры запроса\n",
        "headers = {'Content-Type': 'application/json'}\n",
        "data = {\n",
        "    'conn_id': 'my_postgres_conn',\n",
        "    'conn_type': 'postgres',\n",
        "    'host': 'localhost',\n",
        "    'port': '5432',\n",
        "    'login': 'my_user',\n",
        "    'password': 'my_password',\n",
        "    'schema': 'my_schema'\n",
        "}\n",
        "\n",
        "# Отправка POST-запроса для создания подключения\n",
        "response = requests.post(url, headers=headers, json=data)\n",
        "\n",
        "# Проверка статуса ответа\n",
        "if response.status_code == 200:\n",
        "    print('Подключение успешно создано')\n",
        "else:\n",
        "    print('Ошибка при создании подключения:', response.status_code)"
      ],
      "metadata": {
        "id": "pyOMPvR1nH50"
      },
      "execution_count": null,
      "outputs": []
    },
    {
      "cell_type": "markdown",
      "source": [
        "В этом примере мы отправляем POST-запрос на URL `/api/v1/connections` с указанием параметров подключения в формате JSON. Если ответ имеет код состояния 200, значит подключение было успешно создано.\n",
        "\n",
        "Когда подключение создано, вы можете использовать его в коде ваших задач с помощью объекта `Connection` модуля `airflow.hooks.base`. Вот пример использования подключения в коде:\n",
        "\n"
      ],
      "metadata": {
        "id": "2_PfQhH_nNow"
      }
    },
    {
      "cell_type": "code",
      "source": [
        "from airflow import DAG\n",
        "from airflow.operators.python import PythonOperator\n",
        "from airflow.hooks.base_hook import BaseHook\n",
        "from datetime import datetime\n",
        "\n",
        "def my_task():\n",
        "    my_conn = BaseHook.get_connection(\"my_postgres_conn\")\n",
        "    print(f\"Host: {my_conn.host}\")\n",
        "    print(f\"Login: {my_conn.login}\")\n",
        "\n",
        "with DAG('my_dag', schedule_interval='@daily', start_date=datetime(2024, 1, 1)) as dag:\n",
        "    task = PythonOperator(task_id='my_task', python_callable=my_task)\n"
      ],
      "metadata": {
        "id": "79Emv3TwnUqR"
      },
      "execution_count": null,
      "outputs": []
    },
    {
      "cell_type": "markdown",
      "source": [
        "В этом примере мы получаем подключение с помощью `BaseHook.get_connection()` и выводим некоторые параметры подключения в задаче с помощью функции `my_task()`.\n",
        "\n"
      ],
      "metadata": {
        "id": "4Si0tsqVnY1t"
      }
    },
    {
      "cell_type": "markdown",
      "source": [
        "**Теперь хотелось продемонстрировать, как выглядят переменные и подключения и как можно автоматизировать их добавление c помощью DAG.**\n",
        "\n"
      ],
      "metadata": {
        "id": "Evkj5ly-1L9q"
      }
    },
    {
      "cell_type": "markdown",
      "source": [
        "МЫ уже определились, что **variables и connections по сути своей пары \"ключ-значение\"**. Получается что мы сможем сохранить из в соответствующем файле. Как вы можете помнить это JSON.\n",
        "\n",
        "Для примера возьмем ситуацию, где нам необходимо в процессе выполнения DAG использовать подключение к базе данных PostgreSQL. Для этого мы создаем файл `connections.json` в таком виде:\n",
        "\n"
      ],
      "metadata": {
        "id": "gNMiXEyk1UIz"
      }
    },
    {
      "cell_type": "code",
      "source": [
        "{\n",
        "  \"conn1\": {\n",
        "    \"conn_type\": \"postgres\",\n",
        "    \"description\": \"Подключение к базе данных\",\n",
        "    \"login\": \"postgres\",\n",
        "    \"password\": \"password\",\n",
        "    \"host\": \"host.docker.internal\",\n",
        "    \"port\": 5430,\n",
        "    \"schema\": \"test\",\n",
        "    \"extra\": \"{}\"\n",
        " }\n",
        "}\n"
      ],
      "metadata": {
        "id": "1Zyjh8WQ1aot"
      },
      "execution_count": null,
      "outputs": []
    },
    {
      "cell_type": "markdown",
      "source": [
        "А также в процессе нашей задачи требуется использовать какие-то значения, которые негоже писать прям в коде (API ключи, какие-то параметры, подключения те же именовать). Для этого мы создадим файл `variables.json` в таком виде:\n",
        "\n"
      ],
      "metadata": {
        "id": "-uaxi-i41gtz"
      }
    },
    {
      "cell_type": "code",
      "source": [
        "{\n",
        "    \"base_url\": \"https://www.тут-нужная-вам-ссылка.co/query\",\n",
        "    \"conn_name\": \"conn1\",\n",
        "    \"function\": \"TIME_SERIES_INTRADAY\",\n",
        "    \"interval\": \"15min\",\n",
        "    \"symbol_apple\": \"AAPL\",\n",
        "    \"apikey\": \"----------\",\n",
        "    \"outputsize\": \"full\"\n",
        "\n",
        "}"
      ],
      "metadata": {
        "id": "BoQFC8VZ1fO_"
      },
      "execution_count": null,
      "outputs": []
    },
    {
      "cell_type": "markdown",
      "source": [
        " Отлично! Теперь давайте создадим DAG который назовем init, который будет добавлять наши переменные и подключения в Airflow автоматически, при помощи bash-оператора:\n",
        "\n"
      ],
      "metadata": {
        "id": "Ehc8HG2e1mUp"
      }
    },
    {
      "cell_type": "code",
      "source": [
        "from datetime import datetime, timedelta, date\n",
        "from airflow import DAG\n",
        "from airflow.operators.bash import BashOperator\n",
        "from airflow.operators.empty import EmptyOperator\n",
        "from airflow.utils.task_group import TaskGroup\n",
        "\n",
        "# аргументы дага по умолчанию\n",
        "default_args = {\n",
        "    \"owner\": \"user\",\n",
        "    \"retries\": 0,\n",
        "    \"start_date\": datetime.today()\n",
        "}\n",
        "\n",
        "# функция добавления переменных в airflow\n",
        "\n",
        "with DAG(dag_id=\"01_init\",description = 'Прикручиваем connections и variables', default_args=default_args, schedule_interval='@once', catchup=False) as dag:\n",
        "\n",
        "    start = EmptyOperator(task_id='start')\n",
        "\n",
        "    with TaskGroup(\"01_init\", tooltip=\"Добавление connections\") as init_tg:\n",
        "\n",
        "        # ****************** добавление переменных ***********************\n",
        "\n",
        "        set_variables = BashOperator(\n",
        "            task_id = 'set_variables',\n",
        "            bash_command='airflow variables import /opt/airflow/dags/variables.json'\n",
        "        )\n",
        "\n",
        "        # ****************** добавление connecions ***********************\n",
        "\n",
        "        set_connections = BashOperator(\n",
        "            task_id='set_connections',\n",
        "            bash_command='airflow connections import /opt/airflow/dags/connections.json'\n",
        "        )\n",
        "\n",
        "    end = EmptyOperator(task_id='end')\n",
        "\n",
        "    start >> init_tg >> end\n"
      ],
      "metadata": {
        "id": "b4heBCMK1m65"
      },
      "execution_count": null,
      "outputs": []
    },
    {
      "cell_type": "markdown",
      "source": [
        "Вуаля!\n",
        "\n"
      ],
      "metadata": {
        "id": "tYjSljDJ1aZV"
      }
    },
    {
      "cell_type": "markdown",
      "source": [
        "### XComs (Cross-Communication)\n"
      ],
      "metadata": {
        "id": "1KM-1gzw1ZAR"
      }
    },
    {
      "cell_type": "markdown",
      "source": [
        "XComs, или механизм кросс-коммуникации, позволяет задачам в Airflow обмениваться сообщениями или данными между собой. Каждая задача может \"вытолкнуть\" сообщение в XCom с помощью метода `xcom_push`, и другие задачи могут \"вытянуть\" это сообщение с помощью метода `xcom_pull`.\n",
        "\n",
        "Это особенно полезно в сценариях, где результат выполнения одной задачи требуется для начала выполнения другой. Например, задача, которая обрабатывает данные, может передать результаты другой задаче, которая использует эти данные для обновления базы данных или отправки уведомлений.\n",
        "\n",
        "XComs хранятся в базе данных Airflow, что делает этот механизм надежным и эффективным для управления данными между задачами.\n",
        "\n",
        "\n",
        "\n"
      ],
      "metadata": {
        "id": "ewrm2i3X45E2"
      }
    },
    {
      "cell_type": "code",
      "source": [
        "from airflow import DAG\n",
        "from airflow.operators.python_operator import PythonOperator\n",
        "from datetime import datetime\n",
        "\n",
        "def push_data(**context):\n",
        "    context['ti'].xcom_push(key='my_data', value='Hello, Airflow!')\n",
        "\n",
        "def process_data(**context):\n",
        "    my_data = context['ti'].xcom_pull(key='my_data')\n",
        "    print(my_data)\n",
        "\n",
        "with DAG('xcom_example_dag', schedule_interval='@daily', start_date=datetime(2024, 1, 1)) as dag:\n",
        "    push_task = PythonOperator(\n",
        "        task_id='push_task',\n",
        "        python_callable=push_data,\n",
        "        provide_context=True\n",
        "    )\n",
        "\n",
        "    process_task = PythonOperator(\n",
        "        task_id='process_task',\n",
        "        python_callable=process_data,\n",
        "        provide_context=True\n",
        "    )\n",
        "\n",
        "    push_task >> process_task\n"
      ],
      "metadata": {
        "id": "WvECKijF49bP"
      },
      "execution_count": null,
      "outputs": []
    },
    {
      "cell_type": "markdown",
      "source": [
        "В этом примере у нас есть две задачи: `push_task` и `process_task`.\n",
        "\n",
        "В задаче `push_task` мы определяем функцию `push_data()`, которая отправляет данные `'Hello, Airflow!'` в XCom с помощью метода `xcom_push()`. Мы используем аргумент `**context`, чтобы получить доступ к контексту выполнения задачи, и вызываем `context['ti'].xcom_push()` для отправки данных в XCom. Мы указываем ключ `'my_data'` и значение `'Hello, Airflow!'`.\n",
        "\n",
        "В задаче `process_task` мы определяем функцию `process_data()`, которая получает данные из XCom с помощью метода `xcom_pull()`. Мы снова используем аргумент `**context`, чтобы получить доступ к контексту выполнения задачи, и вызываем `context['ti'].xcom_pull()` с ключом `'my_data'`, чтобы получить данные из XCom. Затем мы просто выводим полученные данные.\n",
        "\n",
        "Затем мы связываем задачи push_task и process_task с помощью оператора >>, чтобы определить порядок их выполнения.\n",
        "\n",
        "При выполнении этого DAG задача push_task сначала отправляет данные в XCom, а затем задача process_task получает эти данные из XCom и выводит их.\n",
        "\n"
      ],
      "metadata": {
        "id": "6L5SQOLr4_h2"
      }
    },
    {
      "cell_type": "markdown",
      "source": [
        "![image.png](data:image/png;base64,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)"
      ],
      "metadata": {
        "id": "6niisqfhUubw"
      }
    },
    {
      "cell_type": "markdown",
      "source": [
        "### Погружение в операторы. Sensor операторы"
      ],
      "metadata": {
        "id": "CvCoRhH_VErw"
      }
    },
    {
      "cell_type": "markdown",
      "source": [
        "В Apache Airflow сенсоры (Sensors) используются для мониторинга определенных условий или событий и ожидания, пока эти условия не будут выполнены. Сенсоры позволяют вам создавать задачи, которые ожидают внешние события или изменения состояний, прежде чем продолжить выполнение DAG. Вот некоторые примеры сенсорных операторов в Airflow:\n",
        "\n",
        "1. `ExternalTaskSensor`: Этот сенсор ожидает завершения определенной задачи (внешней задачи) в другом DAG. Вот пример использования `ExternalTaskSensor`:"
      ],
      "metadata": {
        "id": "ydoMTokRVKbe"
      }
    },
    {
      "cell_type": "code",
      "source": [
        "from airflow import DAG\n",
        "from airflow.operators.dummy_operator import DummyOperator\n",
        "from airflow.operators.sensors import ExternalTaskSensor\n",
        "from datetime import datetime\n",
        "\n",
        "with DAG('my_dag', schedule_interval='@daily', start_date=datetime(2023, 1, 1)) as dag:\n",
        "    task1 = DummyOperator(task_id='task1')\n",
        "\n",
        "    task2 = ExternalTaskSensor(task_id='wait_for_task1', external_dag_id='other_dag', external_task_id='task1')\n",
        "\n",
        "    task1 >> task2\n"
      ],
      "metadata": {
        "id": "pf0zCgZvOQtP"
      },
      "execution_count": null,
      "outputs": []
    },
    {
      "cell_type": "markdown",
      "source": [
        "В этом примере у нас есть две задачи: `task1` и `wait_for_task1`. Задача `wait_for_task1` является сенсором и ожидает завершения задачи `task1` в другом даге с идентификатором `'other_dag'`. Когда `task1` в другом даге завершится, `wait_for_task1` продолжит выполнение.\n",
        "\n",
        "2. `FileSensor`: Этот сенсор ожидает появление определенного файла на файловой системе. Вот пример использования `FileSensor`:\n",
        "\n",
        "\n"
      ],
      "metadata": {
        "id": "4bMPASDLOSYM"
      }
    },
    {
      "cell_type": "code",
      "source": [
        "from airflow import DAG\n",
        "from airflow.operators.sensors import FileSensor\n",
        "\n",
        "from datetime import datetime\n",
        "\n",
        "with DAG('my_dag', schedule_interval='@daily', start_date=datetime(2023, 1, 1)) as dag:\n",
        "  wait_for_file = FileSensor(\n",
        "      task_id='wait_for_file',\n",
        "      filepath='/path/to/my/file.txt'\n",
        "  )\n"
      ],
      "metadata": {
        "id": "8iZoCyriOUc-"
      },
      "execution_count": null,
      "outputs": []
    },
    {
      "cell_type": "markdown",
      "source": [
        "В этом примере у нас есть задача `wait_for_file`, которая ожидает появление файла `/path/to/my/file.txt` на файловой системе. Когда файл будет обнаружен, задача `wait_for_file` продолжит выполнение.\n",
        "\n"
      ],
      "metadata": {
        "id": "37_V3TD9OuCY"
      }
    },
    {
      "cell_type": "markdown",
      "source": [
        "3. `HttpSensor`: Этот сенсор выполняет `HTTP-запрос` и ожидает успешный ответ от сервера. Вот пример использования `HttpSensor`:\n",
        "\n"
      ],
      "metadata": {
        "id": "r7yjWHBWPRJI"
      }
    },
    {
      "cell_type": "code",
      "source": [
        "from airflow import DAG\n",
        "from airflow.operators.sensors import HttpSensor\n",
        "\n",
        "from datetime import datetime\n",
        "\n",
        "with DAG('my_dag', schedule_interval='@daily', start_date=datetime(2023, 1, 1)) as dag:\n",
        "    wait_for_api = HttpSensor(\n",
        "        task_id='wait_for_api',\n",
        "        http_conn_id='my_http_conn',\n",
        "        endpoint='/api/health'\n",
        "    )\n"
      ],
      "metadata": {
        "id": "vgSd9EvBPWxs"
      },
      "execution_count": null,
      "outputs": []
    },
    {
      "cell_type": "markdown",
      "source": [
        "В этом примере у нас есть задача `wait_for_api`, которая выполняет HTTP-запрос на эндпоинт `/api/health` с использованием соединения с идентификатором `'my_http_conn'`. Сенсор ожидает успешный ответ от сервера (код ответа 2xx). Когда успешный ответ будет получен, задача `wait_for_api` продолжит выполнение.\n",
        "\n"
      ],
      "metadata": {
        "id": "Bteeu7B4P5fu"
      }
    },
    {
      "cell_type": "markdown",
      "source": [
        "### Jinja templating\n"
      ],
      "metadata": {
        "id": "b5bMprPtQcUq"
      }
    },
    {
      "cell_type": "markdown",
      "source": [
        "Jinja templating широко используется в Apache Airflow для создания динамических задач, определения параметров, форматирования строк и других операций в рамках дагов и операторов. В Airflow Jinja templating позволяет вам вставлять переменные и выражения в определенные атрибуты и параметры задач во время выполнения.\n",
        "\n",
        "Вот некоторые примеры использования Jinja templating в Apache Airflow:\n",
        "\n"
      ],
      "metadata": {
        "id": "lwo9VjCFQfqz"
      }
    },
    {
      "cell_type": "markdown",
      "source": [
        "1. Вставка переменных в параметры задач: Вы можете использовать Jinja templating, чтобы вставить значения переменных или XCom данных в параметры задач:\n",
        "\n"
      ],
      "metadata": {
        "id": "uYSVaxUwQpqT"
      }
    },
    {
      "cell_type": "code",
      "source": [
        "from airflow import DAG\n",
        "from airflow.operators.bash_operator import BashOperator\n",
        "fromdatetime import datetime\n",
        "\n",
        "with DAG('my_dag', schedule_interval='@daily', start_date=datetime(2023,1,1)) as dag:\n",
        "  my_variable = 'Hello, Airflow!'\n",
        "  task= BashOperator(task_id='my_task', bash_command='echo \"{{ var.value.my_variable }}\"')\n"
      ],
      "metadata": {
        "id": "umgEhuD5Qnqj"
      },
      "execution_count": null,
      "outputs": []
    },
    {
      "cell_type": "markdown",
      "source": [
        "В этом примере мы определяем переменную `my_variable` со значением `'Hello, Airflow!'`. Затем мы используем Jinja templating, обернув переменную в двойные фигурные скобки `{{ }}`, чтобы вставить ее значение в параметр `bash_command` задачи.\n",
        "\n"
      ],
      "metadata": {
        "id": "nza_OESP5dvv"
      }
    },
    {
      "cell_type": "markdown",
      "source": [
        "2. Использование функций и выражений: Jinja templating также позволяет использовать функции и выражения внутри шаблонов. Например, вы можете использовать функцию `ds_add()` для добавления дат в параметры задач:\n",
        "\n"
      ],
      "metadata": {
        "id": "yl5zb4LY5kn5"
      }
    },
    {
      "cell_type": "code",
      "source": [
        "from airflow import DAG\n",
        "from airflow.operators.bash_operator import BashOperator\n",
        "from datetime import datetime\n",
        "\n",
        "with DAG('my_dag', schedule_interval='@daily', start_date=datetime(2023,1,1)) as dag:\n",
        "  task = BashOperator(\n",
        "      task_id=my_task,\n",
        "      bash_command='echo \"Today is {{ ds }}\"'\n",
        "  )"
      ],
      "metadata": {
        "id": "E8R9x77W5pps"
      },
      "execution_count": null,
      "outputs": []
    },
    {
      "cell_type": "markdown",
      "source": [
        "В этом примере мы используем `{{ ds }}`, чтобы вставить текущую дату в параметр bash_command задачи с помощью функции `ds_add()`.\n",
        "\n"
      ],
      "metadata": {
        "id": "XCspHIhK6TFx"
      }
    },
    {
      "cell_type": "markdown",
      "source": [
        "3. Использование контекста выполнения: Airflow предоставляет контекст выполнения задачи, который можно использовать в Jinja templating для получения доступа к различным свойствам и данным. Например, вы можете использовать контекст для получения значения XCom данных:\n",
        "\n"
      ],
      "metadata": {
        "id": "c-iiO3-v6W5D"
      }
    },
    {
      "cell_type": "code",
      "source": [
        "from airflow import DAG\n",
        "from airflow.operators.bash_operator import BashOperator\n",
        "from datetime import datetime\n",
        "\n",
        "with DAG('my_dag', schedule_interval='@daily', start_datetime=datetime(2023,1,1)) as dag:\n",
        "  task1 = BashOperator(task_id='task1', bash_command='echo \"Hello, Airflow!\"')\n",
        "  task2 = BashOperator(\n",
        "      task_id='task2',\n",
        "      bash_command='echo \"{{ ti.xcom_pull(task_ids=\\'task1\\'\\) }}\"'\n",
        "  )\n",
        "\n",
        "  task1 >> task2"
      ],
      "metadata": {
        "id": "DKOvpOYZ6qzT"
      },
      "execution_count": null,
      "outputs": []
    },
    {
      "cell_type": "markdown",
      "source": [
        "### Как реально разворачивать airflow на практике (используют SparkSubmit и SparkServer)"
      ],
      "metadata": {
        "id": "N5Srwdnarfsu"
      }
    },
    {
      "cell_type": "markdown",
      "source": [
        "А дело все в том, что на текущий момент мы сделали удаленный локальный запуск(с локальной машины через докер). Давайте разберемся подробнее.\n",
        "\n",
        "1. Есть докер контейнер. Мы туда положили AIrflow.\n",
        "\n",
        "2. Docker контейнер также содержит локальный спарк, который мы установили в Docker File.\n",
        "\n",
        "3. Именно к нему и подключается Airflow и забирает ресурсы по факту у самого себя (то есть от общего количества ресурсов в контейнере), а докер уже забирает ресурсы нашего компьютера. Такая вот матрешка))\n",
        "\n",
        "4. Но зато оно работает )\n",
        "\n",
        "В реальности так никто конечно не делает. Используют оператор SparkSumbit, который смотрит на кластер Spark Server и уже туда отправляется наша задача. Можно ли рядом сделать Spark Server и отправлять туда задачи через этот оператор? Можно. Но у нас пока нет столько памяти на компьютере. Выглядеть будет ориентировочно вот так, но на практике пока не покажем.\n",
        "\n"
      ],
      "metadata": {
        "id": "9Q2OrSVkrv8G"
      }
    },
    {
      "cell_type": "code",
      "source": [
        "from airflow import DAG\n",
        "from airflow.providers.apache.spark.operators.spark_submit import SparkSubmitOperator\n",
        "from datetime import datetime\n",
        "\n",
        "with DAG(\n",
        "    dag_id='spark_submit_example',\n",
        "    start_date=datetime(2023, 10, 1),\n",
        "    schedule_interval='@daily',\n",
        "    catchup=False,\n",
        ") as dag:\n",
        "\n",
        "    submit_spark_job = SparkSubmitOperator(\n",
        "        task_id='run_spark_job',\n",
        "        application='/opt/airflow/dags/spark_job.py',  # Путь к Spark приложению\n",
        "        conn_id='spark_default',  # Подключение к Spark\n",
        "        conf={\n",
        "            \"spark.master\": \"spark://spark-master:7077\",\n",
        "            \"spark.executor.memory\": \"2g\"\n",
        "        },\n",
        "        jars='/opt/airflow/jars/some-jar-file.jar',\n",
        "        total_executor_cores=2,\n",
        "        executor_cores=2,\n",
        "        executor_memory=\"2g\",\n",
        "        driver_memory=\"1g\",\n",
        "        verbose=True\n",
        "    )\n",
        "\n",
        "    submit_spark_job\n"
      ],
      "metadata": {
        "id": "2TXw9bg-r8h2"
      },
      "execution_count": null,
      "outputs": []
    },
    {
      "cell_type": "markdown",
      "source": [
        "Таким образом мы не нагружаем Airflow вычислениями, так как они вынесены в Spark Server, который в свою очередь содержит Spark Master и Spark Workers.\n",
        "\n"
      ],
      "metadata": {
        "id": "zWNdRFBTsAsP"
      }
    }
  ]
}