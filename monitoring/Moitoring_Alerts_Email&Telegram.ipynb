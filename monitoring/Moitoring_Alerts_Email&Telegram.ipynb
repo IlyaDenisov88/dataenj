{
  "nbformat": 4,
  "nbformat_minor": 0,
  "metadata": {
    "colab": {
      "provenance": [],
      "authorship_tag": "ABX9TyNYOl0mJe2qJBcxOV5HUuBZ",
      "include_colab_link": true
    },
    "kernelspec": {
      "name": "python3",
      "display_name": "Python 3"
    },
    "language_info": {
      "name": "python"
    }
  },
  "cells": [
    {
      "cell_type": "markdown",
      "metadata": {
        "id": "view-in-github",
        "colab_type": "text"
      },
      "source": [
        "<a href=\"https://colab.research.google.com/github/IlyaDenisov88/dataenj/blob/main/monitoring/Moitoring_Alerts_Email%26Telegram.ipynb\" target=\"_parent\"><img src=\"https://colab.research.google.com/assets/colab-badge.svg\" alt=\"Open In Colab\"/></a>"
      ]
    },
    {
      "cell_type": "markdown",
      "source": [
        "## Email"
      ],
      "metadata": {
        "id": "RzPSpZOWX79J"
      }
    },
    {
      "cell_type": "code",
      "execution_count": null,
      "metadata": {
        "id": "t1payJ_ZW1_V"
      },
      "outputs": [],
      "source": [
        "import psutil\n",
        "import smtplib\n",
        "from email.mime.text import MIMEText\n",
        "from email.mime.multipart import MIMEMultipart\n",
        "\n",
        "# Настройки для отправки почты\n",
        "SMTP_SERVER = \"smtp.example.com\"  # SMTP-сервер вашего почтового провайдера\n",
        "SMTP_PORT = 587  # Порт SMTP-сервера\n",
        "SMTP_USER = \"your_email@example.com\"  # Ваша электронная почта\n",
        "SMTP_PASSWORD = \"your_password\"  # Ваш пароль\n",
        "\n",
        "# Адреса отправителя и получателя\n",
        "FROM_EMAIL = \"your_email@example.com\"\n",
        "TO_EMAIL = \"recipient_email@example.com\"\n",
        "\n",
        "\n",
        "# Функция для отправки электронной почты\n",
        "def send_email(subject, message):\n",
        "    msg = MIMEMultipart()\n",
        "    msg['From'] = FROM_EMAIL\n",
        "    msg['To'] = TO_EMAIL\n",
        "    msg['Subject'] = subject\n",
        "\n",
        "    msg.attach(MIMEText(message, 'plain'))\n",
        "\n",
        "    try:\n",
        "        server = smtplib.SMTP(SMTP_SERVER, SMTP_PORT)\n",
        "        server.starttls()\n",
        "        server.login(SMTP_USER, SMTP_PASSWORD)\n",
        "        text = msg.as_string()\n",
        "        server.sendmail(FROM_EMAIL, TO_EMAIL, text)\n",
        "        server.quit()\n",
        "        print(\"Email sent successfully\")\n",
        "    except Exception as e:\n",
        "        print(f\"Failed to send email: {e}\")\n",
        "\n",
        "\n",
        "# Функция для проверки состояния системы\n",
        "def check_system():\n",
        "    cpu_usage = psutil.cpu_percent(interval=1)\n",
        "    memory_info = psutil.virtual_memory()\n",
        "    memory_usage = memory_info.percent\n",
        "\n",
        "    # Установите пороговые значения для алертов\n",
        "    CPU_THRESHOLD = 80  # Пороговое значение для загрузки CPU в процентах\n",
        "    MEMORY_THRESHOLD = 80  # Пороговое значение для использования памяти в процентах\n",
        "\n",
        "    if cpu_usage > CPU_THRESHOLD:\n",
        "        subject = \"High CPU Usage Alert\"\n",
        "        message = f\"CPU usage is at {cpu_usage}% which is above the threshold of {CPU_THRESHOLD}%\"\n",
        "        send_email(subject, message)\n",
        "\n",
        "    if memory_usage > MEMORY_THRESHOLD:\n",
        "        subject = \"High Memory Usage Alert\"\n",
        "        message = f\"Memory usage is at {memory_usage}% which is above the threshold of {MEMORY_THRESHOLD}%\"\n",
        "        send_email(subject, message)\n",
        "\n",
        "\n",
        "# Основной цикл мониторинга\n",
        "if __name__ == \"__main__\":\n",
        "    while True:\n",
        "        check_system()\n"
      ]
    },
    {
      "cell_type": "markdown",
      "source": [
        "* **Импорт библиотек:** Мы импортируем необходимые библиотеки для мониторинга системных метрик и отправки электронной почты.\n",
        "\n",
        "* **Настройки для отправки почты:** Указываем настройки SMTP-сервера, учетные данные и адреса электронной почты отправителя и получателя.\n",
        "\n",
        "* **Функция send_email:** Создает и отправляет электронное письмо с заданной темой и сообщением.\n",
        "\n",
        "* **Функция check_system:** Проверяет текущую загрузку CPU и использование памяти. Если значения превышают установленные пороговые значения, вызывается функция send_email для отправки уведомления.\n",
        "\n",
        "* **Основной цикл мониторинга:** Постоянно проверяет состояние системы и отправляет уведомления при необходимости.\n",
        "\n",
        "В airflow, отправка алертов на почту указывается в блоке аргументов.\n",
        "\n",
        "\n",
        "```\n",
        "default_args = {\n",
        "    'owner': 'airflow',\n",
        "    \"email\": [\"a.badanov@mail.ru\"], # в случае если не успешно\n",
        "    \"email_on_failure\": True,\n",
        "    \"email_on_retry\": False,\n",
        "}\n",
        "```\n",
        "\n",
        "* **email:** Укажите адреса электронной почты, на которые будут отправляться уведомления.\n",
        "* **email_on_failure:** Установите True, чтобы получать уведомления при сбое задачи.\n",
        "* **email_on_retry:** Установите False, если не хотите получать уведомления при повторной попытке выполнения задачи.\n",
        "\n",
        "В заключение хочется сказать о том, что уведомления на почту это интересный инструмент, предлагаемый многими приложениями для разработки. Но, стоит учитывать, что почту мы смотрим не ежесекундно, и по факту, толку от таких алертов не много. Да, есть статусные уведомления, но, опять же, почта не является нашим обыденным приложением.\n",
        "\n",
        "\n",
        "\n"
      ],
      "metadata": {
        "id": "7Uqvo7SKXVrz"
      }
    },
    {
      "cell_type": "markdown",
      "source": [
        "## Telegram"
      ],
      "metadata": {
        "id": "563m0DEiX_y9"
      }
    },
    {
      "cell_type": "code",
      "source": [],
      "metadata": {
        "id": "267To28BX_Nu"
      },
      "execution_count": null,
      "outputs": []
    }
  ]
}